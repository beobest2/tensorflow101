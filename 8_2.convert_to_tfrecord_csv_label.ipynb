{
 "cells": [
  {
   "cell_type": "code",
   "execution_count": 1,
   "metadata": {
    "collapsed": true
   },
   "outputs": [],
   "source": [
    "#!nvidia-smi"
   ]
  },
  {
   "cell_type": "code",
   "execution_count": 2,
   "metadata": {
    "collapsed": true
   },
   "outputs": [],
   "source": [
    "#%env CUDA_DEVICE_ORDER=PCI_BUS_ID\n",
    "#%env CUDA_VISIBLE_DEVICES=5"
   ]
  },
  {
   "cell_type": "code",
   "execution_count": 3,
   "metadata": {
    "collapsed": true
   },
   "outputs": [],
   "source": [
    "import os\n",
    "import numpy as np\n",
    "from scipy.misc import imread, imresize\n",
    "import tensorflow as tf\n",
    "import matplotlib.pyplot as plt\n",
    "import random"
   ]
  },
  {
   "cell_type": "code",
   "execution_count": 4,
   "metadata": {
    "collapsed": true
   },
   "outputs": [],
   "source": [
    "img_width = 28\n",
    "img_height = 28\n",
    "\n",
    "tfrecord_train = 'fashion_train.tfrecord'\n",
    "tfrecord_val = 'fashion_val.tfrecord'\n",
    "tfrecord_dir = 'tfrecords'"
   ]
  },
  {
   "cell_type": "code",
   "execution_count": 5,
   "metadata": {
    "collapsed": false
   },
   "outputs": [
    {
     "name": "stdout",
     "output_type": "stream",
     "text": [
      "images should be stored in c:\\Work\\FC_TF_course\\..\\images_fashion\n"
     ]
    }
   ],
   "source": [
    "cur_dir = os.getcwd()\n",
    "image_dir = os.path.join(cur_dir, '..', 'images_fashion')\n",
    "valid_exts = ['.png']\n",
    "print (\"images should be stored in {}\".format(image_dir))"
   ]
  },
  {
   "cell_type": "markdown",
   "metadata": {},
   "source": [
    "### [Label Name]\n",
    "\n",
    "0 : T-shirt/top\n",
    "\n",
    "1 : Trouser\n",
    "\n",
    "2 : Pullover\n",
    "\n",
    "3 : Dress\n",
    "\n",
    "4 : Coat\n",
    "\n",
    "5 : Sandal\n",
    "\n",
    "6 : Shirt\n",
    "\n",
    "7 : Sneaker\n",
    "\n",
    "8 : Bag\n",
    "\n",
    "9 : Ankle boot"
   ]
  },
  {
   "cell_type": "code",
   "execution_count": 16,
   "metadata": {
    "collapsed": false
   },
   "outputs": [
    {
     "name": "stdout",
     "output_type": "stream",
     "text": [
      "(60000,)\n"
     ]
    }
   ],
   "source": [
    "label_file = 'labels.csv'\n",
    "label_path = os.path.join(image_dir, label_file)\n",
    "\n",
    "labels = np.loadtxt(label_path, delimiter=',', dtype=np.int64)\n",
    "print(labels.shape)"
   ]
  },
  {
   "cell_type": "code",
   "execution_count": 7,
   "metadata": {
    "collapsed": false
   },
   "outputs": [
    {
     "name": "stdout",
     "output_type": "stream",
     "text": [
      "60000 images are found\n"
     ]
    }
   ],
   "source": [
    "imglist = []\n",
    "filelist = os.listdir(image_dir)\n",
    "for f in filelist:\n",
    "    ext = os.path.splitext(f)[-1]\n",
    "    if ext.lower() not in valid_exts:\n",
    "        continue\n",
    "    imglist.append(f)\n",
    "print (\"{} images are found\".format(len(imglist)))"
   ]
  },
  {
   "cell_type": "code",
   "execution_count": 8,
   "metadata": {
    "collapsed": false
   },
   "outputs": [
    {
     "data": {
      "text/plain": [
       "['0.png',\n",
       " '1.png',\n",
       " '10.png',\n",
       " '100.png',\n",
       " '1000.png',\n",
       " '10000.png',\n",
       " '10001.png',\n",
       " '10002.png',\n",
       " '10003.png',\n",
       " '10004.png']"
      ]
     },
     "execution_count": 8,
     "metadata": {},
     "output_type": "execute_result"
    }
   ],
   "source": [
    "imglist[0:10]"
   ]
  },
  {
   "cell_type": "code",
   "execution_count": 9,
   "metadata": {
    "collapsed": false
   },
   "outputs": [
    {
     "data": {
      "text/plain": [
       "['11863.png',\n",
       " '29866.png',\n",
       " '35585.png',\n",
       " '57744.png',\n",
       " '21806.png',\n",
       " '24754.png',\n",
       " '52197.png',\n",
       " '21168.png',\n",
       " '58264.png',\n",
       " '4661.png']"
      ]
     },
     "execution_count": 9,
     "metadata": {},
     "output_type": "execute_result"
    }
   ],
   "source": [
    "random.shuffle(imglist)\n",
    "imglist[0:10]"
   ]
  },
  {
   "cell_type": "code",
   "execution_count": 10,
   "metadata": {
    "collapsed": false
   },
   "outputs": [
    {
     "data": {
      "text/plain": [
       "(50000, 10000)"
      ]
     },
     "execution_count": 10,
     "metadata": {},
     "output_type": "execute_result"
    }
   ],
   "source": [
    "numfiles = len(imglist)\n",
    "img_train = imglist[:int(5/6*numfiles)]\n",
    "img_val = imglist[int(5/6*numfiles):]\n",
    "len(img_train), len(img_val)"
   ]
  },
  {
   "cell_type": "code",
   "execution_count": 11,
   "metadata": {
    "collapsed": false,
    "scrolled": false
   },
   "outputs": [
    {
     "data": {
      "image/png": "[encoded data removed]",
      "text/plain": [
       "<matplotlib.figure.Figure at 0x1a95c7116d8>"
      ]
     },
     "metadata": {},
     "output_type": "display_data"
    },
    {
     "data": {
      "image/png": "[encoded data removed]",
      "text/plain": [
       "<matplotlib.figure.Figure at 0x1a95cb84d30>"
      ]
     },
     "metadata": {},
     "output_type": "display_data"
    },
    {
     "data": {
      "image/png": "[encoded data removed]",
      "text/plain": [
       "<matplotlib.figure.Figure at 0x1a95cc2df98>"
      ]
     },
     "metadata": {},
     "output_type": "display_data"
    },
    {
     "data": {
      "image/png": "[encoded data removed]",
      "text/plain": [
       "<matplotlib.figure.Figure at 0x1a95cbd2908>"
      ]
     },
     "metadata": {},
     "output_type": "display_data"
    },
    {
     "data": {
      "image/png": "[encoded data removed]",
      "text/plain": [
       "<matplotlib.figure.Figure at 0x1a95cd3e908>"
      ]
     },
     "metadata": {},
     "output_type": "display_data"
    },
    {
     "data": {
      "image/png": "[encoded data removed]",
      "text/plain": [
       "<matplotlib.figure.Figure at 0x1a95ccc9198>"
      ]
     },
     "metadata": {},
     "output_type": "display_data"
    },
    {
     "data": {
      "image/png": "[encoded data removed]",
      "text/plain": [
       "<matplotlib.figure.Figure at 0x1a95cc7d198>"
      ]
     },
     "metadata": {},
     "output_type": "display_data"
    },
    {
     "data": {
      "image/png": "[encoded data removed]",
      "text/plain": [
       "<matplotlib.figure.Figure at 0x1a95ce57048>"
      ]
     },
     "metadata": {},
     "output_type": "display_data"
    },
    {
     "data": {
      "image/png": "[encoded data removed]",
      "text/plain": [
       "<matplotlib.figure.Figure at 0x1a95ced0908>"
      ]
     },
     "metadata": {},
     "output_type": "display_data"
    },
    {
     "data": {
      "image/png": "[encoded data removed]",
      "text/plain": [
       "<matplotlib.figure.Figure at 0x1a95cf22048>"
      ]
     },
     "metadata": {},
     "output_type": "display_data"
    }
   ],
   "source": [
    "label_name = ['T-shirt/top', 'Trouser', 'Pullover', 'Dress', 'Coat', 'Sandal', \n",
    "              'Shirt', 'Sneaker', 'Bag', 'Ankle boot']\n",
    "for tempimg in imglist[0:10]:\n",
    "    idx = int(os.path.splitext(tempimg)[0])\n",
    "    label = labels[idx]\n",
    "    img_path = os.path.join(image_dir, tempimg)\n",
    "    image = np.array(imread(img_path))\n",
    "    image = imresize(image, [img_height, img_width])\n",
    "    plt.title(\"{} : {}\".format(tempimg, label_name[label]))\n",
    "    plt.imshow(image, cmap='Greys', interpolation='nearest')\n",
    "    plt.show()"
   ]
  },
  {
   "cell_type": "code",
   "execution_count": 12,
   "metadata": {
    "collapsed": false
   },
   "outputs": [],
   "source": [
    "writer_train = tf.python_io.TFRecordWriter(os.path.join(cur_dir, tfrecord_dir, tfrecord_train))\n",
    "writer_val  = tf.python_io.TFRecordWriter(os.path.join(cur_dir, tfrecord_dir, tfrecord_val))"
   ]
  },
  {
   "cell_type": "code",
   "execution_count": 13,
   "metadata": {
    "collapsed": true
   },
   "outputs": [],
   "source": [
    "def _int64_feature(value):\n",
    "    return tf.train.Feature(int64_list=tf.train.Int64List(value=[value]))\n",
    "\n",
    "def _bytes_feature(value):\n",
    "    return tf.train.Feature(bytes_list=tf.train.BytesList(value=[value]))"
   ]
  },
  {
   "cell_type": "code",
   "execution_count": 14,
   "metadata": {
    "collapsed": false,
    "scrolled": false
   },
   "outputs": [],
   "source": [
    "for imgname in img_train:\n",
    "    idx = int(os.path.splitext(imgname)[0])\n",
    "    label = labels[idx]\n",
    "    img_path = os.path.join(image_dir, imgname)\n",
    "    image = np.array(imread(img_path))\n",
    "    image = imresize(image, [img_height, img_width])\n",
    "    image_str = image.tostring()\n",
    "    \n",
    "    example = tf.train.Example(features=tf.train.Features(feature={\n",
    "        'image': _bytes_feature(image_str),\n",
    "        'label': _int64_feature(label)\n",
    "    }))\n",
    "    writer_train.write(example.SerializeToString())"
   ]
  },
  {
   "cell_type": "code",
   "execution_count": 15,
   "metadata": {
    "collapsed": true
   },
   "outputs": [],
   "source": [
    "for imgname in img_val:\n",
    "    idx = int(os.path.splitext(imgname)[0])\n",
    "    label = labels[idx]\n",
    "    img_path = os.path.join(image_dir, imgname)\n",
    "    image = np.array(imread(img_path))\n",
    "    image = imresize(image, [img_height, img_width])\n",
    "    image_str = image.tostring()\n",
    "    \n",
    "    example = tf.train.Example(features=tf.train.Features(feature={\n",
    "        'image': _bytes_feature(image_str),\n",
    "        'label': _int64_feature(label)\n",
    "    }))\n",
    "    writer_val.write(example.SerializeToString())"
   ]
  },
  {
   "cell_type": "code",
   "execution_count": null,
   "metadata": {
    "collapsed": true
   },
   "outputs": [],
   "source": []
  }
 ],
 "metadata": {
  "kernelspec": {
   "display_name": "Python 3",
   "language": "python",
   "name": "python3"
  },
  "language_info": {
   "codemirror_mode": {
    "name": "ipython",
    "version": 3
   },
   "file_extension": ".py",
   "mimetype": "text/x-python",
   "name": "python",
   "nbconvert_exporter": "python",
   "pygments_lexer": "ipython3",
   "version": "3.5.2"
  }
 },
 "nbformat": 4,
 "nbformat_minor": 2
}
