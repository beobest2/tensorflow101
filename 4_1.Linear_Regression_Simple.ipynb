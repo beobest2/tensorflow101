{
 "cells": [
  {
   "cell_type": "code",
   "execution_count": 1,
   "metadata": {
    "collapsed": true
   },
   "outputs": [],
   "source": [
    "import tensorflow as tf\n",
    "import numpy as np\n",
    "import matplotlib.pyplot as plt\n",
    "%matplotlib inline"
   ]
  },
  {
   "cell_type": "code",
   "execution_count": 2,
   "metadata": {
    "collapsed": true
   },
   "outputs": [],
   "source": [
    "# For reproducibility\n",
    "np.random.seed(777)"
   ]
  },
  {
   "cell_type": "code",
   "execution_count": 3,
   "metadata": {
    "collapsed": true
   },
   "outputs": [],
   "source": [
    "# inputs\n",
    "x = np.linspace(0, 1, 100, dtype=np.float32)\n",
    "\n",
    "# ground truth\n",
    "slopes = np.random.normal(1, 0.5, 100).astype(np.float32)\n",
    "intercept = 2.\n",
    "\n",
    "# outputs\n",
    "y = x * slopes + intercept"
   ]
  },
  {
   "cell_type": "code",
   "execution_count": 4,
   "metadata": {
    "collapsed": false
   },
   "outputs": [
    {
     "data": {
      "text/plain": [
       "array([ 0.76589561,  0.58858758,  0.96730995,  0.64331901,  1.45317543,\n",
       "        1.38311839,  1.41302705,  0.33815861,  0.12377774,  1.50122452,\n",
       "        1.27240467,  1.94758046,  0.61532128,  0.29845205,  0.68376625,\n",
       "        0.72056317,  0.38338432,  0.78024822,  1.45739365,  1.13252044,\n",
       "        0.30831492,  1.34275591,  1.22804546,  0.76931286,  1.04735017,\n",
       "        0.2285942 ,  2.23968482,  1.22843337,  0.84306359,  1.01051867,\n",
       "        1.48039663,  1.02924144,  0.77698392,  1.15959859,  1.42058432,\n",
       "        0.233619  ,  0.85920787,  1.87222636,  0.66288054,  1.29420066,\n",
       "        1.90218174,  2.02812505,  1.72729087,  0.93079418,  1.17143595,\n",
       "        0.63619077,  0.29802695,  0.3796944 ,  0.77825892,  0.97633743,\n",
       "        1.37884223,  0.92395705,  0.86436051,  0.70008004, -0.01345206,\n",
       "        1.16517115,  0.83458447,  0.98252892,  1.14487398,  0.69686502,\n",
       "        0.86579788,  1.59573877,  1.07880664,  1.58741236,  1.66045499,\n",
       "        0.57598138,  1.37285376,  0.84418935,  0.47446731,  0.46175158,\n",
       "        1.22530484,  1.20437038,  0.28522924,  1.5087136 ,  0.95911461,\n",
       "        0.8080408 ,  0.88088739,  1.00439429,  1.26023424,  1.2018522 ,\n",
       "        0.79910892,  0.65137738,  1.32299137,  0.8622334 ,  0.81039488,\n",
       "        1.98401749,  1.1012485 ,  1.18634868,  1.49067295,  1.36823118,\n",
       "        1.70565045,  0.93674111,  1.27657866,  0.59223199,  1.26935124,\n",
       "       -0.10889748,  0.5468539 ,  0.26893756,  0.66121757,  1.76140189], dtype=float32)"
      ]
     },
     "execution_count": 4,
     "metadata": {},
     "output_type": "execute_result"
    }
   ],
   "source": [
    "slopes"
   ]
  },
  {
   "cell_type": "code",
   "execution_count": 5,
   "metadata": {
    "collapsed": false
   },
   "outputs": [
    {
     "data": {
      "image/png": "[encoded data removed]",
      "text/plain": [
       "<matplotlib.figure.Figure at 0x204c18c22b0>"
      ]
     },
     "metadata": {},
     "output_type": "display_data"
    }
   ],
   "source": [
    "plt.scatter(x, y)\n",
    "plt.plot(x, x * 1 + 2., label=\"ground truth\", c=\"r\")\n",
    "plt.legend()\n",
    "plt.show()"
   ]
  },
  {
   "cell_type": "code",
   "execution_count": 6,
   "metadata": {
    "collapsed": false
   },
   "outputs": [
    {
     "data": {
      "text/plain": [
       "dtype('float32')"
      ]
     },
     "execution_count": 6,
     "metadata": {},
     "output_type": "execute_result"
    }
   ],
   "source": [
    "x.dtype"
   ]
  },
  {
   "cell_type": "code",
   "execution_count": 7,
   "metadata": {
    "collapsed": false
   },
   "outputs": [
    {
     "data": {
      "text/plain": [
       "dtype('float32')"
      ]
     },
     "execution_count": 7,
     "metadata": {},
     "output_type": "execute_result"
    }
   ],
   "source": [
    "y.dtype"
   ]
  },
  {
   "cell_type": "code",
   "execution_count": 8,
   "metadata": {
    "collapsed": false
   },
   "outputs": [
    {
     "data": {
      "text/plain": [
       "(100,)"
      ]
     },
     "execution_count": 8,
     "metadata": {},
     "output_type": "execute_result"
    }
   ],
   "source": [
    "x.shape"
   ]
  },
  {
   "cell_type": "code",
   "execution_count": 9,
   "metadata": {
    "collapsed": false
   },
   "outputs": [
    {
     "data": {
      "text/plain": [
       "(100,)"
      ]
     },
     "execution_count": 9,
     "metadata": {},
     "output_type": "execute_result"
    }
   ],
   "source": [
    "y.shape"
   ]
  },
  {
   "cell_type": "code",
   "execution_count": 10,
   "metadata": {
    "collapsed": true
   },
   "outputs": [],
   "source": [
    "# Inputs\n",
    "x_pl = tf.placeholder(tf.float32, [100,], name=\"x_pl\")\n",
    "y_pl = tf.placeholder(tf.float32, [100,], name=\"y_pl\")"
   ]
  },
  {
   "cell_type": "code",
   "execution_count": 11,
   "metadata": {
    "collapsed": true
   },
   "outputs": [],
   "source": [
    "# Computation\n",
    "## Variables = Parameters = Weights\n",
    "w = tf.Variable(.1, tf.float32)\n",
    "b = tf.Variable(0., tf.float32)"
   ]
  },
  {
   "cell_type": "code",
   "execution_count": 12,
   "metadata": {
    "collapsed": true
   },
   "outputs": [],
   "source": [
    "## prediction = y_hat = hypothesis\n",
    "preds = x_pl * w + b # (100,)"
   ]
  },
  {
   "cell_type": "code",
   "execution_count": 13,
   "metadata": {
    "collapsed": true
   },
   "outputs": [],
   "source": [
    "# objective = loss = cost\n",
    "loss = tf.reduce_mean(tf.square(preds - y)) # L2 loss"
   ]
  },
  {
   "cell_type": "code",
   "execution_count": 14,
   "metadata": {
    "collapsed": false
   },
   "outputs": [],
   "source": [
    "# Optimization = Training\n",
    "optimizer = tf.train.GradientDescentOptimizer(learning_rate=.1)\n",
    "train_op = optimizer.minimize(loss)"
   ]
  },
  {
   "cell_type": "code",
   "execution_count": 15,
   "metadata": {
    "collapsed": true
   },
   "outputs": [],
   "source": [
    "# start a session\n",
    "sess = tf.Session()"
   ]
  },
  {
   "cell_type": "code",
   "execution_count": 16,
   "metadata": {
    "collapsed": true
   },
   "outputs": [],
   "source": [
    "# initialize all variables\n",
    "sess.run(tf.global_variables_initializer())"
   ]
  },
  {
   "cell_type": "code",
   "execution_count": 17,
   "metadata": {
    "collapsed": false
   },
   "outputs": [
    {
     "name": "stdout",
     "output_type": "stream",
     "text": [
      "1 \t 6.17397 \t 0.1 \t 0.0\n",
      "2 \t 3.47361 \t 0.360818 \t 0.491142\n",
      "3 \t 1.96916 \t 0.555045 \t 0.857975\n",
      "4 \t 1.13098 \t 0.699576 \t 1.13202\n",
      "5 \t 0.663994 \t 0.807018 \t 1.3368\n",
      "6 \t 0.403808 \t 0.886784 \t 1.48988\n",
      "7 \t 0.258835 \t 0.945896 \t 1.60437\n",
      "8 \t 0.178052 \t 0.989599 \t 1.69005\n",
      "9 \t 0.13303 \t 1.02181 \t 1.75422\n",
      "10 \t 0.107931 \t 1.04544 \t 1.80234\n",
      "11 \t 0.0939337 \t 1.06267 \t 1.83847\n",
      "12 \t 0.0861207 \t 1.07514 \t 1.86565\n",
      "13 \t 0.0817538 \t 1.08406 \t 1.88615\n",
      "14 \t 0.0793071 \t 1.09032 \t 1.90166\n",
      "15 \t 0.0779306 \t 1.09462 \t 1.91343\n",
      "16 \t 0.0771506 \t 1.09745 \t 1.92243\n",
      "17 \t 0.0767034 \t 1.0992 \t 1.92934\n",
      "18 \t 0.0764419 \t 1.10013 \t 1.93469\n",
      "19 \t 0.0762841 \t 1.10047 \t 1.93888\n",
      "20 \t 0.0761845 \t 1.10036 \t 1.9422\n"
     ]
    }
   ],
   "source": [
    "loss_list, w_list, b_list = [], [], []\n",
    "for epoch in range(20):\n",
    "    _, _loss, _w, _b = sess.run([train_op, loss, w, b], {x_pl:x, y_pl:y})\n",
    "    print(epoch+1, \"\\t\", _loss, \"\\t\", _w, \"\\t\", _b)\n",
    "    loss_list.append(_loss)\n",
    "    w_list.append(_w)\n",
    "    b_list.append(_b)"
   ]
  },
  {
   "cell_type": "code",
   "execution_count": 18,
   "metadata": {
    "collapsed": false
   },
   "outputs": [
    {
     "data": {
      "image/png": "[encoded data removed]",
      "text/plain": [
       "<matplotlib.figure.Figure at 0x204c18d1f28>"
      ]
     },
     "metadata": {},
     "output_type": "display_data"
    }
   ],
   "source": [
    "plt.plot(loss_list, label=\"loss\")\n",
    "plt.plot(w_list, label=\"w\")\n",
    "plt.plot(b_list, label=\"b\")\n",
    "plt.legend()\n",
    "plt.show()"
   ]
  },
  {
   "cell_type": "code",
   "execution_count": null,
   "metadata": {
    "collapsed": true
   },
   "outputs": [],
   "source": []
  }
 ],
 "metadata": {
  "kernelspec": {
   "display_name": "Python 3",
   "language": "python",
   "name": "python3"
  },
  "language_info": {
   "codemirror_mode": {
    "name": "ipython",
    "version": 3
   },
   "file_extension": ".py",
   "mimetype": "text/x-python",
   "name": "python",
   "nbconvert_exporter": "python",
   "pygments_lexer": "ipython3",
   "version": "3.5.2"
  }
 },
 "nbformat": 4,
 "nbformat_minor": 2
}
