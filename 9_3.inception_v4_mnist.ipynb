{
 "cells": [
  {
   "cell_type": "code",
   "execution_count": null,
   "metadata": {
    "collapsed": true
   },
   "outputs": [],
   "source": [
    "#!nvidia-smi"
   ]
  },
  {
   "cell_type": "code",
   "execution_count": null,
   "metadata": {
    "collapsed": true
   },
   "outputs": [],
   "source": [
    "#%env CUDA_DEVICE_ORDER=PCI_BUS_ID\n",
    "#%env CUDA_VISIBLE_DEVICES=0"
   ]
  },
  {
   "cell_type": "code",
   "execution_count": 1,
   "metadata": {
    "collapsed": true
   },
   "outputs": [],
   "source": [
    "import os\n",
    "import numpy as np\n",
    "from scipy.misc import imread, imresize, imsave\n",
    "import tensorflow as tf\n",
    "from tensorflow.examples.tutorials.mnist import input_data\n",
    "import matplotlib.pyplot as plt\n",
    "import random"
   ]
  },
  {
   "cell_type": "code",
   "execution_count": 2,
   "metadata": {
    "collapsed": false
   },
   "outputs": [
    {
     "name": "stdout",
     "output_type": "stream",
     "text": [
      "Extracting ../data/train-images-idx3-ubyte.gz\n",
      "Extracting ../data/train-labels-idx1-ubyte.gz\n",
      "Extracting ../data/t10k-images-idx3-ubyte.gz\n",
      "Extracting ../data/t10k-labels-idx1-ubyte.gz\n"
     ]
    }
   ],
   "source": [
    "mnist = input_data.read_data_sets(\"../data/\", one_hot=True)\n",
    "# Check out https://www.tensorflow.org/get_started/mnist/beginners for\n",
    "# more information about the mnist dataset"
   ]
  },
  {
   "cell_type": "code",
   "execution_count": 3,
   "metadata": {
    "collapsed": true
   },
   "outputs": [],
   "source": [
    "# hyper parameters\n",
    "learning_rate = 0.001\n",
    "training_epochs = 70\n",
    "batch_size = 16\n",
    "n_class = 10\n",
    "seed = 777\n",
    "num_epochs_per_decay = 10\n",
    "tf.set_random_seed(seed)\n",
    "cur_dir = os.getcwd()"
   ]
  },
  {
   "cell_type": "code",
   "execution_count": 4,
   "metadata": {
    "collapsed": false
   },
   "outputs": [],
   "source": [
    "X = tf.placeholder(tf.float32, [None, 784], name=\"X\")\n",
    "Y = tf.placeholder(tf.float32, [None, n_class], name = \"Y\")\n",
    "is_train = tf.placeholder(tf.bool, name=\"is_train\")"
   ]
  },
  {
   "cell_type": "code",
   "execution_count": 5,
   "metadata": {
    "collapsed": true
   },
   "outputs": [],
   "source": [
    "def preproc(x):\n",
    "    # x = x*2 - 1.0\n",
    "    # per-example mean subtraction (http://ufldl.stanford.edu/wiki/index.php/Data_Preprocessing)\n",
    "    mean = tf.reduce_mean(x, axis=1, keep_dims=True)\n",
    "    return x - mean"
   ]
  },
  {
   "cell_type": "code",
   "execution_count": 6,
   "metadata": {
    "collapsed": true
   },
   "outputs": [],
   "source": [
    "def conv_bn_activ_dropout(x, n_filters, kernel_size, strides, dropout_rate, training, seed, \n",
    "                          padding='SAME', activ_fn=tf.nn.relu, name=\"conv_bn_act_dr\"):\n",
    "    #with tf.variable_scope(name):\n",
    "    net = tf.layers.conv2d(x, n_filters, kernel_size, strides=strides, padding=padding, use_bias=False, \n",
    "                           kernel_initializer=tf.contrib.layers.xavier_initializer(seed=seed))\n",
    "    net = tf.layers.batch_normalization(net, training=training)\n",
    "    net = activ_fn(net)\n",
    "    if dropout_rate > 0.0:            \n",
    "        net = tf.layers.dropout(net, rate=dropout_rate, training=training, seed=seed)\n",
    "    return net"
   ]
  },
  {
   "cell_type": "code",
   "execution_count": 7,
   "metadata": {
    "collapsed": false
   },
   "outputs": [],
   "source": [
    "def conv_bn_activ(x, n_filters, kernel_size, strides=1, training=is_train, seed=seed, \n",
    "                  padding='SAME', activ_fn=tf.nn.relu, name=\"conv_bn_act\"):\n",
    "    return conv_bn_activ_dropout(x, n_filters, kernel_size, strides, 0.0, training, seed, \n",
    "                                 padding=padding, activ_fn=activ_fn, name=name)"
   ]
  },
  {
   "cell_type": "code",
   "execution_count": 8,
   "metadata": {
    "collapsed": true
   },
   "outputs": [],
   "source": [
    "def stem(x, name=\"stem\"):\n",
    "    with tf.variable_scope(name):\n",
    "        with tf.variable_scope(\"stem1\"):\n",
    "            # x : 299x299x3\n",
    "            net = conv_bn_activ(x, 32, [3, 3], 2, padding='VALID') # 149x149x32\n",
    "            net = conv_bn_activ(net, 32, [3, 3], padding='VALID') # 147x147x32\n",
    "            net = conv_bn_activ(net, 64, [3, 3]) # 147x147x64\n",
    "            b1 = tf.layers.max_pooling2d(net, [3, 3], 2, padding='VALID') # 73x73x64\n",
    "            b2 = conv_bn_activ(net, 96, [3, 3], 2, padding='VALID') # 73x73x96\n",
    "            net = tf.concat([b1, b2], axis=-1) # 73x73x160\n",
    "            print(net)\n",
    "        with tf.variable_scope(\"stem2\"):\n",
    "            b1 = conv_bn_activ(net, 64, [1, 1])\n",
    "            b1 = conv_bn_activ(b1, 96, [3, 3], padding='VALID')\n",
    "            b2 = conv_bn_activ(net, 64, [1, 1])\n",
    "            b2 = conv_bn_activ(b2, 64, [1, 7])\n",
    "            b2 = conv_bn_activ(b2, 64, [7, 1])\n",
    "            b2 = conv_bn_activ(b2, 96, [3, 3], padding='VALID')\n",
    "            net = tf.concat([b1, b2], axis=-1) # 71x71x192\n",
    "            print(net)\n",
    "        with tf.variable_scope(\"stem3\"):\n",
    "            b1 = conv_bn_activ(net, 192, [3, 3], 2, padding='VALID')\n",
    "            b2 = tf.layers.max_pooling2d(net, [3, 3], 2, padding='VALID')\n",
    "            net = tf.concat([b1, b2], axis=-1) # 35x35x384\n",
    "    print(net)\n",
    "    return net"
   ]
  },
  {
   "cell_type": "code",
   "execution_count": 9,
   "metadata": {
    "collapsed": true
   },
   "outputs": [],
   "source": [
    "def inception_A(x, name=\"inception_A\"):\n",
    "    # num of channels : 96 x 4 = 384\n",
    "    with tf.variable_scope(name):\n",
    "        b1 = tf.layers.average_pooling2d(x, [3, 3], 1, padding='SAME')\n",
    "        b1 = conv_bn_activ(b1, 96, [1, 1])\n",
    "        b2 = conv_bn_activ(x, 96, [1, 1])\n",
    "        b3 = conv_bn_activ(x, 64, [1, 1])\n",
    "        b3 = conv_bn_activ(b3, 96, [3, 3])\n",
    "        b4 = conv_bn_activ(x, 64, [1, 1])\n",
    "        b4 = conv_bn_activ(b4, 96, [3, 3])\n",
    "        b4 = conv_bn_activ(b4, 96, [3, 3])\n",
    "        net = tf.concat([b1, b2, b3, b4], axis=-1)\n",
    "        print(net)\n",
    "        return net"
   ]
  },
  {
   "cell_type": "code",
   "execution_count": 10,
   "metadata": {
    "collapsed": false
   },
   "outputs": [],
   "source": [
    "def inception_B(x, name=\"inception_B\"):\n",
    "    # num of channels : 128 + 384 + 256 + 256 = 1024\n",
    "    with tf.variable_scope(name):\n",
    "        b1 = tf.layers.average_pooling2d(x, [3, 3], 1, padding='SAME')\n",
    "        b1 = conv_bn_activ(b1, 128, [1, 1])\n",
    "        b2 = conv_bn_activ(x, 384, [1, 1])\n",
    "        b3 = conv_bn_activ(x, 192, [1, 1])\n",
    "        b3 = conv_bn_activ(b3, 224, [1, 7])\n",
    "        b3 = conv_bn_activ(b3, 256, [7, 1])\n",
    "        b4 = conv_bn_activ(x, 192, [1, 1])\n",
    "        b4 = conv_bn_activ(b4, 192, [1, 7])\n",
    "        b4 = conv_bn_activ(b4, 224, [7, 1])\n",
    "        b4 = conv_bn_activ(b4, 224, [1, 7])\n",
    "        b4 = conv_bn_activ(b4, 256, [7, 1])\n",
    "        net = tf.concat([b1, b2, b3, b4], axis=-1)\n",
    "        print(net)\n",
    "        return net"
   ]
  },
  {
   "cell_type": "code",
   "execution_count": 11,
   "metadata": {
    "collapsed": true
   },
   "outputs": [],
   "source": [
    "def inception_C(x, name=\"inception_C\"):\n",
    "    # num of channels : 256 * 6 = 1536\n",
    "    with tf.variable_scope(name):\n",
    "        b1 = tf.layers.average_pooling2d(x, [3, 3], 1, padding='SAME')\n",
    "        b1 = conv_bn_activ(b1, 256, [1, 1])\n",
    "        b2 = conv_bn_activ(x, 256, [1, 1])\n",
    "        b3 = conv_bn_activ(x, 384, [1, 1])\n",
    "        b3_1 = conv_bn_activ(b3, 256, [1, 3])\n",
    "        b3_2 = conv_bn_activ(b3, 256, [3, 1])\n",
    "        b4 = conv_bn_activ(x, 384, [1, 1])\n",
    "        b4 = conv_bn_activ(b4, 448, [1, 3])\n",
    "        b4 = conv_bn_activ(b4, 512, [3, 1])\n",
    "        b4_1 = conv_bn_activ(b4, 256, [3, 1])\n",
    "        b4_2 = conv_bn_activ(b4, 256, [1, 3])\n",
    "        net = tf.concat([b1, b2, b3_1, b3_2, b4_1, b4_2], axis=-1)\n",
    "        print(net)\n",
    "        return net"
   ]
  },
  {
   "cell_type": "code",
   "execution_count": 12,
   "metadata": {
    "collapsed": true
   },
   "outputs": [],
   "source": [
    "def reduction_A(x, name=\"reduction_A\"):\n",
    "    # num of channels : 384 + 384 + 256 = 1024\n",
    "    with tf.variable_scope(name):\n",
    "        b1 = tf.layers.max_pooling2d(x, [3, 3], 2, padding='VALID')\n",
    "        b2 = conv_bn_activ(x, 384, [3, 3], 2, padding='VALID')\n",
    "        b3 = conv_bn_activ(x, 192, [1, 1])\n",
    "        b3 = conv_bn_activ(b3, 224, [3, 3])\n",
    "        b3 = conv_bn_activ(b3, 256, [3, 3], 2, padding='VALID')\n",
    "        net = tf.concat([b1, b2, b3], axis=-1) # 17x17x1024\n",
    "        print(net)\n",
    "        return net"
   ]
  },
  {
   "cell_type": "code",
   "execution_count": 13,
   "metadata": {
    "collapsed": true
   },
   "outputs": [],
   "source": [
    "def reduction_B(x, name=\"reduction_B\"):\n",
    "    # num of channes : 1024 + 192 + 320 = 1536\n",
    "    with tf.variable_scope(name):\n",
    "        b1 = tf.layers.max_pooling2d(x, [3, 3], 2, padding='VALID')\n",
    "        b2 = conv_bn_activ(x, 192, [1, 1])\n",
    "        b2 = conv_bn_activ(b2, 192, [3, 3], 2, padding='VALID')\n",
    "        b3 = conv_bn_activ(x, 256, [1, 1])\n",
    "        b3 = conv_bn_activ(b3, 256, [1, 7])\n",
    "        b3 = conv_bn_activ(b3, 320, [7, 1])\n",
    "        b3 = conv_bn_activ(b3, 320, [3, 3], 2, padding='VALID')\n",
    "        net = tf.concat([b1, b2, b3], axis=-1) # 8x8x1536\n",
    "        print(net)\n",
    "        return net"
   ]
  },
  {
   "cell_type": "code",
   "execution_count": 14,
   "metadata": {
    "collapsed": true
   },
   "outputs": [],
   "source": [
    "def build_inception_slim(X_img):\n",
    "    net = X_img\n",
    "    with tf.variable_scope(\"stem\"):\n",
    "        net = stem(net)\n",
    "    with tf.variable_scope(\"inception-A\"):\n",
    "        for i in range(4):\n",
    "            net = inception_A(net, name=\"inception_block_a{}\".format(i))\n",
    "    with tf.variable_scope(\"reduction-A\"):\n",
    "        net = reduction_A(net)\n",
    "    with tf.variable_scope(\"inception-B\"):\n",
    "        for i in range(7):\n",
    "            net = inception_B(net, name=\"inception_block_b{}\".format(i))\n",
    "    with tf.variable_scope(\"reduction-B\"):\n",
    "        net = reduction_B(net)\n",
    "    with tf.variable_scope(\"inception-C\"):\n",
    "        for i in range(3):\n",
    "            net = inception_C(net, name=\"inception_block_c{}\".format(i))\n",
    "    with tf.variable_scope(\"fc\"):\n",
    "        net = tf.layers.average_pooling2d(name=\"gap\", inputs=net, pool_size=[8, 8], \n",
    "                                          strides=8, padding='SAME')\n",
    "        print(net)\n",
    "        net = tf.reshape(net, [-1, 1536])\n",
    "        print(net)\n",
    "        net = tf.layers.dropout(net, rate=0.2, training=is_train, seed=seed)        \n",
    "        logits = tf.layers.dense(net, n_class, name=\"logits\", \n",
    "                              kernel_initializer=tf.contrib.layers.variance_scaling_initializer(seed=seed))\n",
    "        print(logits)\n",
    "    return logits"
   ]
  },
  {
   "cell_type": "code",
   "execution_count": 15,
   "metadata": {
    "collapsed": false
   },
   "outputs": [],
   "source": [
    "X_pre = preproc(X)\n",
    "X_img = tf.reshape(X_pre, [-1, 28, 28, 1], name=\"X_img\")\n",
    "X_img = tf.image.resize_bilinear(X_img, [299, 299])"
   ]
  },
  {
   "cell_type": "code",
   "execution_count": 16,
   "metadata": {
    "collapsed": false,
    "scrolled": false
   },
   "outputs": [
    {
     "name": "stdout",
     "output_type": "stream",
     "text": [
      "Tensor(\"stem/stem/stem1/concat:0\", shape=(?, 73, 73, 160), dtype=float32)\n",
      "Tensor(\"stem/stem/stem2/concat:0\", shape=(?, 71, 71, 192), dtype=float32)\n",
      "Tensor(\"stem/stem/stem3/concat:0\", shape=(?, 35, 35, 384), dtype=float32)\n",
      "Tensor(\"inception-A/inception_block_a0/concat:0\", shape=(?, 35, 35, 384), dtype=float32)\n",
      "Tensor(\"inception-A/inception_block_a1/concat:0\", shape=(?, 35, 35, 384), dtype=float32)\n",
      "Tensor(\"inception-A/inception_block_a2/concat:0\", shape=(?, 35, 35, 384), dtype=float32)\n",
      "Tensor(\"inception-A/inception_block_a3/concat:0\", shape=(?, 35, 35, 384), dtype=float32)\n",
      "Tensor(\"reduction-A/reduction_A/concat:0\", shape=(?, 17, 17, 1024), dtype=float32)\n",
      "Tensor(\"inception-B/inception_block_b0/concat:0\", shape=(?, 17, 17, 1024), dtype=float32)\n",
      "Tensor(\"inception-B/inception_block_b1/concat:0\", shape=(?, 17, 17, 1024), dtype=float32)\n",
      "Tensor(\"inception-B/inception_block_b2/concat:0\", shape=(?, 17, 17, 1024), dtype=float32)\n",
      "Tensor(\"inception-B/inception_block_b3/concat:0\", shape=(?, 17, 17, 1024), dtype=float32)\n",
      "Tensor(\"inception-B/inception_block_b4/concat:0\", shape=(?, 17, 17, 1024), dtype=float32)\n",
      "Tensor(\"inception-B/inception_block_b5/concat:0\", shape=(?, 17, 17, 1024), dtype=float32)\n",
      "Tensor(\"inception-B/inception_block_b6/concat:0\", shape=(?, 17, 17, 1024), dtype=float32)\n",
      "Tensor(\"reduction-B/reduction_B/concat:0\", shape=(?, 8, 8, 1536), dtype=float32)\n",
      "Tensor(\"inception-C/inception_block_c0/concat:0\", shape=(?, 8, 8, 1536), dtype=float32)\n",
      "Tensor(\"inception-C/inception_block_c1/concat:0\", shape=(?, 8, 8, 1536), dtype=float32)\n",
      "Tensor(\"inception-C/inception_block_c2/concat:0\", shape=(?, 8, 8, 1536), dtype=float32)\n",
      "Tensor(\"fc/gap/AvgPool:0\", shape=(?, 1, 1, 1536), dtype=float32)\n",
      "Tensor(\"fc/Reshape:0\", shape=(?, 1536), dtype=float32)\n",
      "Tensor(\"fc/logits/BiasAdd:0\", shape=(?, 10), dtype=float32)\n"
     ]
    }
   ],
   "source": [
    "logits = build_inception_slim(X_img)"
   ]
  },
  {
   "cell_type": "code",
   "execution_count": 17,
   "metadata": {
    "collapsed": false
   },
   "outputs": [
    {
     "name": "stdout",
     "output_type": "stream",
     "text": [
      "3437\n"
     ]
    }
   ],
   "source": [
    "loss = tf.reduce_mean(tf.nn.softmax_cross_entropy_with_logits(logits=logits, labels=Y), name=\"loss\")\n",
    "n_batches_per_epoch = int(mnist.train.num_examples / batch_size)\n",
    "print(n_batches_per_epoch)\n",
    "decay_steps = int(n_batches_per_epoch * num_epochs_per_decay)\n",
    "global_step = tf.Variable(0, trainable=False)\n",
    "learningRate = tf.train.exponential_decay(learning_rate=learning_rate,\n",
    "                                          global_step= global_step,\n",
    "                                          decay_steps=decay_steps,\n",
    "                                          decay_rate= 0.1,\n",
    "                                          staircase=True)\n",
    "#learningRate = tf.train.exponential_decay(learning_rate=learning_rate,\n",
    "#                                          global_step= global_step,\n",
    "#                                          decay_steps=5000,\n",
    "#                                          decay_rate= 0.1,\n",
    "#                                          staircase=True)\n",
    "update_ops = tf.get_collection(tf.GraphKeys.UPDATE_OPS)\n",
    "with tf.control_dependencies(update_ops):\n",
    "    optimizer = tf.train.AdamOptimizer(learning_rate=learningRate).minimize(loss, name=\"optimizer\") "
   ]
  },
  {
   "cell_type": "code",
   "execution_count": 18,
   "metadata": {
    "collapsed": true
   },
   "outputs": [],
   "source": [
    "pred = tf.argmax(logits, axis=1, name=\"prediction\")\n",
    "prob = tf.nn.softmax(logits, name=\"softmax\")\n",
    "accuracy = tf.reduce_mean(tf.cast(tf.equal(pred, tf.argmax(Y, axis=1)), tf.float32), name=\"accuracy\")"
   ]
  },
  {
   "cell_type": "code",
   "execution_count": 19,
   "metadata": {
    "collapsed": true
   },
   "outputs": [],
   "source": [
    "train_var = [X, Y, is_train, logits, pred, prob, accuracy]\n",
    "tf.add_to_collection('train_var', train_var[0])\n",
    "tf.add_to_collection('train_var', train_var[1])\n",
    "tf.add_to_collection('train_var', train_var[2])\n",
    "tf.add_to_collection('train_var', train_var[3])\n",
    "tf.add_to_collection('train_var', train_var[4])\n",
    "tf.add_to_collection('train_var', train_var[5])\n",
    "tf.add_to_collection('train_var', train_var[6])\n",
    "saver = tf.train.Saver()\n",
    "##saver.export_meta_graph(os.path.join(cur_dir, 'checkpoints', 'mnist_ckpt.meta'), collection_list=['train_var'])"
   ]
  },
  {
   "cell_type": "code",
   "execution_count": 20,
   "metadata": {
    "collapsed": true
   },
   "outputs": [],
   "source": [
    "# initialize\n",
    "sess = tf.Session(config=tf.ConfigProto(gpu_options=tf.GPUOptions(allow_growth =True)))\n",
    "sess.run(tf.global_variables_initializer())"
   ]
  },
  {
   "cell_type": "code",
   "execution_count": 21,
   "metadata": {
    "collapsed": false,
    "scrolled": false
   },
   "outputs": [
    {
     "name": "stdout",
     "output_type": "stream",
     "text": [
      "Learning started. It takes sometime.\n",
      "saving a graph and weights => accuracy : 0.9774000000000043\n",
      "Epoch: 0001 cost = 0.186596087 train accuracy =  0.94410 test accuracy =  0.97740\n",
      "Epoch: 0002 cost = 0.094077759 train accuracy =  0.97289 test accuracy =  0.94700\n",
      "Epoch: 0003 cost = 0.071591453 train accuracy =  0.97858 test accuracy =  0.95960\n"
     ]
    },
    {
     "ename": "KeyboardInterrupt",
     "evalue": "",
     "output_type": "error",
     "traceback": [
      "\u001b[0;31m---------------------------------------------------------------------------\u001b[0m",
      "\u001b[0;31mKeyboardInterrupt\u001b[0m                         Traceback (most recent call last)",
      "\u001b[0;32m<ipython-input-21-eef3c097fb63>\u001b[0m in \u001b[0;36m<module>\u001b[0;34m()\u001b[0m\n\u001b[1;32m     14\u001b[0m         \u001b[1;31m#batch_xs = batch_xs.reshape(-1, time_steps, element_size)\u001b[0m\u001b[1;33m\u001b[0m\u001b[1;33m\u001b[0m\u001b[0m\n\u001b[1;32m     15\u001b[0m         \u001b[0mfeed_dict\u001b[0m \u001b[1;33m=\u001b[0m \u001b[1;33m{\u001b[0m\u001b[0mX\u001b[0m\u001b[1;33m:\u001b[0m \u001b[0mbatch_xs\u001b[0m\u001b[1;33m,\u001b[0m \u001b[0mY\u001b[0m\u001b[1;33m:\u001b[0m \u001b[0mbatch_ys\u001b[0m\u001b[1;33m,\u001b[0m \u001b[0mis_train\u001b[0m\u001b[1;33m:\u001b[0m\u001b[1;32mTrue\u001b[0m\u001b[1;33m}\u001b[0m\u001b[1;33m\u001b[0m\u001b[0m\n\u001b[0;32m---> 16\u001b[0;31m         \u001b[0macc\u001b[0m\u001b[1;33m,\u001b[0m \u001b[0mc\u001b[0m\u001b[1;33m,\u001b[0m \u001b[0m_\u001b[0m \u001b[1;33m=\u001b[0m \u001b[0msess\u001b[0m\u001b[1;33m.\u001b[0m\u001b[0mrun\u001b[0m\u001b[1;33m(\u001b[0m\u001b[1;33m[\u001b[0m\u001b[0maccuracy\u001b[0m\u001b[1;33m,\u001b[0m \u001b[0mloss\u001b[0m\u001b[1;33m,\u001b[0m \u001b[0moptimizer\u001b[0m\u001b[1;33m]\u001b[0m\u001b[1;33m,\u001b[0m \u001b[0mfeed_dict\u001b[0m\u001b[1;33m=\u001b[0m\u001b[0mfeed_dict\u001b[0m\u001b[1;33m)\u001b[0m\u001b[1;33m\u001b[0m\u001b[0m\n\u001b[0m\u001b[1;32m     17\u001b[0m         \u001b[0mavg_cost\u001b[0m \u001b[1;33m+=\u001b[0m \u001b[0mc\u001b[0m \u001b[1;33m/\u001b[0m \u001b[0mtotal_batch\u001b[0m\u001b[1;33m\u001b[0m\u001b[0m\n\u001b[1;32m     18\u001b[0m         \u001b[0mavg_train_acc\u001b[0m \u001b[1;33m+=\u001b[0m \u001b[0macc\u001b[0m \u001b[1;33m/\u001b[0m \u001b[0mtotal_batch\u001b[0m\u001b[1;33m\u001b[0m\u001b[0m\n",
      "\u001b[0;32mC:\\Users\\jwlee\\Anaconda3\\envs\\tensorflow35\\lib\\site-packages\\tensorflow\\python\\client\\session.py\u001b[0m in \u001b[0;36mrun\u001b[0;34m(self, fetches, feed_dict, options, run_metadata)\u001b[0m\n\u001b[1;32m    893\u001b[0m     \u001b[1;32mtry\u001b[0m\u001b[1;33m:\u001b[0m\u001b[1;33m\u001b[0m\u001b[0m\n\u001b[1;32m    894\u001b[0m       result = self._run(None, fetches, feed_dict, options_ptr,\n\u001b[0;32m--> 895\u001b[0;31m                          run_metadata_ptr)\n\u001b[0m\u001b[1;32m    896\u001b[0m       \u001b[1;32mif\u001b[0m \u001b[0mrun_metadata\u001b[0m\u001b[1;33m:\u001b[0m\u001b[1;33m\u001b[0m\u001b[0m\n\u001b[1;32m    897\u001b[0m         \u001b[0mproto_data\u001b[0m \u001b[1;33m=\u001b[0m \u001b[0mtf_session\u001b[0m\u001b[1;33m.\u001b[0m\u001b[0mTF_GetBuffer\u001b[0m\u001b[1;33m(\u001b[0m\u001b[0mrun_metadata_ptr\u001b[0m\u001b[1;33m)\u001b[0m\u001b[1;33m\u001b[0m\u001b[0m\n",
      "\u001b[0;32mC:\\Users\\jwlee\\Anaconda3\\envs\\tensorflow35\\lib\\site-packages\\tensorflow\\python\\client\\session.py\u001b[0m in \u001b[0;36m_run\u001b[0;34m(self, handle, fetches, feed_dict, options, run_metadata)\u001b[0m\n\u001b[1;32m   1122\u001b[0m     \u001b[1;32mif\u001b[0m \u001b[0mfinal_fetches\u001b[0m \u001b[1;32mor\u001b[0m \u001b[0mfinal_targets\u001b[0m \u001b[1;32mor\u001b[0m \u001b[1;33m(\u001b[0m\u001b[0mhandle\u001b[0m \u001b[1;32mand\u001b[0m \u001b[0mfeed_dict_tensor\u001b[0m\u001b[1;33m)\u001b[0m\u001b[1;33m:\u001b[0m\u001b[1;33m\u001b[0m\u001b[0m\n\u001b[1;32m   1123\u001b[0m       results = self._do_run(handle, final_targets, final_fetches,\n\u001b[0;32m-> 1124\u001b[0;31m                              feed_dict_tensor, options, run_metadata)\n\u001b[0m\u001b[1;32m   1125\u001b[0m     \u001b[1;32melse\u001b[0m\u001b[1;33m:\u001b[0m\u001b[1;33m\u001b[0m\u001b[0m\n\u001b[1;32m   1126\u001b[0m       \u001b[0mresults\u001b[0m \u001b[1;33m=\u001b[0m \u001b[1;33m[\u001b[0m\u001b[1;33m]\u001b[0m\u001b[1;33m\u001b[0m\u001b[0m\n",
      "\u001b[0;32mC:\\Users\\jwlee\\Anaconda3\\envs\\tensorflow35\\lib\\site-packages\\tensorflow\\python\\client\\session.py\u001b[0m in \u001b[0;36m_do_run\u001b[0;34m(self, handle, target_list, fetch_list, feed_dict, options, run_metadata)\u001b[0m\n\u001b[1;32m   1319\u001b[0m     \u001b[1;32mif\u001b[0m \u001b[0mhandle\u001b[0m \u001b[1;32mis\u001b[0m \u001b[1;32mNone\u001b[0m\u001b[1;33m:\u001b[0m\u001b[1;33m\u001b[0m\u001b[0m\n\u001b[1;32m   1320\u001b[0m       return self._do_call(_run_fn, self._session, feeds, fetches, targets,\n\u001b[0;32m-> 1321\u001b[0;31m                            options, run_metadata)\n\u001b[0m\u001b[1;32m   1322\u001b[0m     \u001b[1;32melse\u001b[0m\u001b[1;33m:\u001b[0m\u001b[1;33m\u001b[0m\u001b[0m\n\u001b[1;32m   1323\u001b[0m       \u001b[1;32mreturn\u001b[0m \u001b[0mself\u001b[0m\u001b[1;33m.\u001b[0m\u001b[0m_do_call\u001b[0m\u001b[1;33m(\u001b[0m\u001b[0m_prun_fn\u001b[0m\u001b[1;33m,\u001b[0m \u001b[0mself\u001b[0m\u001b[1;33m.\u001b[0m\u001b[0m_session\u001b[0m\u001b[1;33m,\u001b[0m \u001b[0mhandle\u001b[0m\u001b[1;33m,\u001b[0m \u001b[0mfeeds\u001b[0m\u001b[1;33m,\u001b[0m \u001b[0mfetches\u001b[0m\u001b[1;33m)\u001b[0m\u001b[1;33m\u001b[0m\u001b[0m\n",
      "\u001b[0;32mC:\\Users\\jwlee\\Anaconda3\\envs\\tensorflow35\\lib\\site-packages\\tensorflow\\python\\client\\session.py\u001b[0m in \u001b[0;36m_do_call\u001b[0;34m(self, fn, *args)\u001b[0m\n\u001b[1;32m   1325\u001b[0m   \u001b[1;32mdef\u001b[0m \u001b[0m_do_call\u001b[0m\u001b[1;33m(\u001b[0m\u001b[0mself\u001b[0m\u001b[1;33m,\u001b[0m \u001b[0mfn\u001b[0m\u001b[1;33m,\u001b[0m \u001b[1;33m*\u001b[0m\u001b[0margs\u001b[0m\u001b[1;33m)\u001b[0m\u001b[1;33m:\u001b[0m\u001b[1;33m\u001b[0m\u001b[0m\n\u001b[1;32m   1326\u001b[0m     \u001b[1;32mtry\u001b[0m\u001b[1;33m:\u001b[0m\u001b[1;33m\u001b[0m\u001b[0m\n\u001b[0;32m-> 1327\u001b[0;31m       \u001b[1;32mreturn\u001b[0m \u001b[0mfn\u001b[0m\u001b[1;33m(\u001b[0m\u001b[1;33m*\u001b[0m\u001b[0margs\u001b[0m\u001b[1;33m)\u001b[0m\u001b[1;33m\u001b[0m\u001b[0m\n\u001b[0m\u001b[1;32m   1328\u001b[0m     \u001b[1;32mexcept\u001b[0m \u001b[0merrors\u001b[0m\u001b[1;33m.\u001b[0m\u001b[0mOpError\u001b[0m \u001b[1;32mas\u001b[0m \u001b[0me\u001b[0m\u001b[1;33m:\u001b[0m\u001b[1;33m\u001b[0m\u001b[0m\n\u001b[1;32m   1329\u001b[0m       \u001b[0mmessage\u001b[0m \u001b[1;33m=\u001b[0m \u001b[0mcompat\u001b[0m\u001b[1;33m.\u001b[0m\u001b[0mas_text\u001b[0m\u001b[1;33m(\u001b[0m\u001b[0me\u001b[0m\u001b[1;33m.\u001b[0m\u001b[0mmessage\u001b[0m\u001b[1;33m)\u001b[0m\u001b[1;33m\u001b[0m\u001b[0m\n",
      "\u001b[0;32mC:\\Users\\jwlee\\Anaconda3\\envs\\tensorflow35\\lib\\site-packages\\tensorflow\\python\\client\\session.py\u001b[0m in \u001b[0;36m_run_fn\u001b[0;34m(session, feed_dict, fetch_list, target_list, options, run_metadata)\u001b[0m\n\u001b[1;32m   1304\u001b[0m           return tf_session.TF_Run(session, options,\n\u001b[1;32m   1305\u001b[0m                                    \u001b[0mfeed_dict\u001b[0m\u001b[1;33m,\u001b[0m \u001b[0mfetch_list\u001b[0m\u001b[1;33m,\u001b[0m \u001b[0mtarget_list\u001b[0m\u001b[1;33m,\u001b[0m\u001b[1;33m\u001b[0m\u001b[0m\n\u001b[0;32m-> 1306\u001b[0;31m                                    status, run_metadata)\n\u001b[0m\u001b[1;32m   1307\u001b[0m \u001b[1;33m\u001b[0m\u001b[0m\n\u001b[1;32m   1308\u001b[0m     \u001b[1;32mdef\u001b[0m \u001b[0m_prun_fn\u001b[0m\u001b[1;33m(\u001b[0m\u001b[0msession\u001b[0m\u001b[1;33m,\u001b[0m \u001b[0mhandle\u001b[0m\u001b[1;33m,\u001b[0m \u001b[0mfeed_dict\u001b[0m\u001b[1;33m,\u001b[0m \u001b[0mfetch_list\u001b[0m\u001b[1;33m)\u001b[0m\u001b[1;33m:\u001b[0m\u001b[1;33m\u001b[0m\u001b[0m\n",
      "\u001b[0;31mKeyboardInterrupt\u001b[0m: "
     ]
    }
   ],
   "source": [
    "# train my model\n",
    "print('Learning started. It takes sometime.')\n",
    "max_test_acc = 0.\n",
    "for epoch in range(training_epochs):\n",
    "    avg_cost = 0.\n",
    "    avg_train_acc = 0.\n",
    "    avg_test_acc = 0.\n",
    "    \n",
    "    total_batch = int(mnist.train.num_examples / batch_size)\n",
    "    total_batch_test = int(mnist.test.num_examples / batch_size)\n",
    "\n",
    "    for i in range(total_batch):\n",
    "        batch_xs, batch_ys = mnist.train.next_batch(batch_size)\n",
    "        #batch_xs = batch_xs.reshape(-1, time_steps, element_size)\n",
    "        feed_dict = {X: batch_xs, Y: batch_ys, is_train:True}\n",
    "        acc, c, _ = sess.run([accuracy, loss, optimizer], feed_dict=feed_dict)\n",
    "        avg_cost += c / total_batch\n",
    "        avg_train_acc += acc / total_batch\n",
    "        \n",
    "    for i in range(total_batch_test):\n",
    "        batch_xs, batch_ys = mnist.test.next_batch(batch_size)        \n",
    "        #batch_xs = batch_xs.reshape(-1, time_steps, element_size)\n",
    "        feed_dict = {X: batch_xs, Y: batch_ys, is_train:False}\n",
    "        acc = sess.run(accuracy, feed_dict=feed_dict)\n",
    "        avg_test_acc += acc / total_batch_test\n",
    "    if avg_test_acc > max_test_acc:\n",
    "        max_test_acc = avg_test_acc\n",
    "        print('saving a graph and weights => accuracy : {}'.format(max_test_acc))\n",
    "        saver.save(sess, os.path.join(cur_dir, 'checkpoints', 'mnist_inception_v4.ckpt'))\n",
    "\n",
    "    print('Epoch:', '%04d' % (epoch + 1), 'cost =', '{:.9f}'.format(avg_cost), \n",
    "          'train accuracy = ', '{:.5f}'.format(avg_train_acc), \n",
    "          'test accuracy = ', '{:.5f}'.format(avg_test_acc))\n",
    "\n",
    "\n",
    "print('Learning Finished!')"
   ]
  },
  {
   "cell_type": "code",
   "execution_count": null,
   "metadata": {
    "collapsed": false
   },
   "outputs": [],
   "source": [
    "#saver.save(sess, os.path.join(cur_dir, 'checkpoints', 'mnist_save.ckpt'))"
   ]
  },
  {
   "cell_type": "code",
   "execution_count": null,
   "metadata": {
    "collapsed": false
   },
   "outputs": [],
   "source": [
    "def evaluate(X_sample, y_sample, batch_size=100):\n",
    "    \"\"\"Run a minibatch accuracy op\"\"\"\n",
    "\n",
    "    N = X_sample.shape[0]\n",
    "    correct_sample = 0\n",
    "\n",
    "    for i in range(0, N, batch_size):\n",
    "        X_batch = X_sample[i: i + batch_size]\n",
    "        y_batch = y_sample[i: i + batch_size]\n",
    "        N_batch = X_batch.shape[0]\n",
    "\n",
    "        feed = {\n",
    "            X: X_batch,\n",
    "            Y: y_batch,\n",
    "            is_train: False\n",
    "        }\n",
    "\n",
    "        correct_sample += sess.run(accuracy, feed_dict=feed) * N_batch\n",
    "\n",
    "    return correct_sample / N\n",
    "\n",
    "print(\"\\nAccuracy Evaluates\")\n",
    "print(\"-------------------------------\")\n",
    "print('Train Accuracy:', '{:.5f}'.format(evaluate(mnist.train.images, mnist.train.labels)))\n",
    "print('Test Accuracy:', '{:.5f}'.format(evaluate(mnist.test.images, mnist.test.labels)))"
   ]
  },
  {
   "cell_type": "code",
   "execution_count": null,
   "metadata": {
    "collapsed": true
   },
   "outputs": [],
   "source": []
  }
 ],
 "metadata": {
  "kernelspec": {
   "display_name": "Python 3",
   "language": "python",
   "name": "python3"
  },
  "language_info": {
   "codemirror_mode": {
    "name": "ipython",
    "version": 3
   },
   "file_extension": ".py",
   "mimetype": "text/x-python",
   "name": "python",
   "nbconvert_exporter": "python",
   "pygments_lexer": "ipython3",
   "version": "3.5.2"
  }
 },
 "nbformat": 4,
 "nbformat_minor": 2
}
