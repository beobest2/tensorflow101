{
 "cells": [
  {
   "cell_type": "code",
   "execution_count": 1,
   "metadata": {
    "collapsed": false
   },
   "outputs": [],
   "source": [
    "import os\n",
    "import numpy as np\n",
    "from scipy.misc import imread, imresize\n",
    "import tensorflow as tf\n",
    "import matplotlib.pyplot as plt"
   ]
  },
  {
   "cell_type": "code",
   "execution_count": 2,
   "metadata": {
    "collapsed": true
   },
   "outputs": [],
   "source": [
    "img_width = 64\n",
    "img_height = 64\n",
    "\n",
    "tfrecord_train = 'train.tfrecord'\n",
    "tfrecord_test = 'test.tfrecord'\n",
    "tfrecord_dir = 'tfrecords'"
   ]
  },
  {
   "cell_type": "code",
   "execution_count": 3,
   "metadata": {
    "collapsed": false
   },
   "outputs": [
    {
     "name": "stdout",
     "output_type": "stream",
     "text": [
      "2 categories in c:\\Work\\FC_TF_course\\..\\images\n",
      "['cats', 'dogs']\n"
     ]
    }
   ],
   "source": [
    "cur_dir = os.getcwd()\n",
    "image_dir = os.path.join(cur_dir, '..', 'images')\n",
    "\n",
    "valid_exts = ['.jpg', '.gif', '.png', '.jpeg']\n",
    "print('%d categories in %s' % (len(os.listdir(image_dir)), image_dir))\n",
    "\n",
    "categories = sorted(os.listdir(image_dir))\n",
    "num_categ = len(categories)\n",
    "print (categories)"
   ]
  },
  {
   "cell_type": "code",
   "execution_count": 4,
   "metadata": {
    "collapsed": false
   },
   "outputs": [
    {
     "name": "stdout",
     "output_type": "stream",
     "text": [
      "100 cats images are found\n",
      "100 dogs images are found\n"
     ]
    }
   ],
   "source": [
    "imgnames = []\n",
    "labels = []\n",
    "for label, category in enumerate(categories):\n",
    "    filelist = os.listdir(os.path.join(image_dir, category))\n",
    "    imglist = []\n",
    "    for f in filelist:\n",
    "        ext = os.path.splitext(f)[-1]\n",
    "        if ext.lower() not in valid_exts:\n",
    "            continue\n",
    "        imglist.append(f)\n",
    "    imgnames += imglist\n",
    "    labels += [label]*len(imglist)\n",
    "    print('{} {} images are found'.format(len(imglist), category))"
   ]
  },
  {
   "cell_type": "code",
   "execution_count": 5,
   "metadata": {
    "collapsed": false
   },
   "outputs": [],
   "source": [
    "numfiles = len(labels)\n",
    "idxrand = np.random.permutation(numfiles)\n",
    "idxtrain = idxrand[:int(0.8*numfiles)]\n",
    "idxtest = idxrand[int(0.8*numfiles):]"
   ]
  },
  {
   "cell_type": "code",
   "execution_count": 6,
   "metadata": {
    "collapsed": true
   },
   "outputs": [],
   "source": [
    "writer_train = tf.python_io.TFRecordWriter(os.path.join(cur_dir, tfrecord_dir, tfrecord_train))\n",
    "writer_test  = tf.python_io.TFRecordWriter(os.path.join(cur_dir, tfrecord_dir, tfrecord_test))"
   ]
  },
  {
   "cell_type": "code",
   "execution_count": 7,
   "metadata": {
    "collapsed": true
   },
   "outputs": [],
   "source": [
    "def _int64_feature(value):\n",
    "    return tf.train.Feature(int64_list=tf.train.Int64List(value=[value]))\n",
    "\n",
    "def _bytes_feature(value):\n",
    "    return tf.train.Feature(bytes_list=tf.train.BytesList(value=[value]))"
   ]
  },
  {
   "cell_type": "code",
   "execution_count": 8,
   "metadata": {
    "collapsed": false
   },
   "outputs": [],
   "source": [
    "for idx in idxtrain:\n",
    "    label = labels[idx]\n",
    "    img_path = os.path.join(image_dir, categories[label], imgnames[idx])\n",
    "    image = np.array(imread(img_path))\n",
    "    \n",
    "    image = imresize(image, [img_height, img_width])\n",
    "    image_str = image.tostring()\n",
    "    \n",
    "    example = tf.train.Example(features=tf.train.Features(feature={\n",
    "        'image': _bytes_feature(image_str),\n",
    "        'label': _int64_feature(label)\n",
    "    }))\n",
    "    writer_train.write(example.SerializeToString())"
   ]
  },
  {
   "cell_type": "code",
   "execution_count": 9,
   "metadata": {
    "collapsed": true
   },
   "outputs": [],
   "source": [
    "for idx in idxtest:\n",
    "    label = labels[idx]\n",
    "    img_path = os.path.join(image_dir, categories[label], imgnames[idx])\n",
    "    image = np.array(imread(img_path))\n",
    "    \n",
    "    image = imresize(image, [img_height, img_width])\n",
    "    image_str = image.tostring()\n",
    "    \n",
    "    example = tf.train.Example(features=tf.train.Features(feature={\n",
    "        'image': _bytes_feature(image_str),\n",
    "        'label': _int64_feature(label)\n",
    "    }))\n",
    "    writer_test.write(example.SerializeToString())"
   ]
  },
  {
   "cell_type": "code",
   "execution_count": 10,
   "metadata": {
    "collapsed": false
   },
   "outputs": [],
   "source": [
    "writer_train.close()\n",
    "writer_test.close()"
   ]
  },
  {
   "cell_type": "code",
   "execution_count": null,
   "metadata": {
    "collapsed": true
   },
   "outputs": [],
   "source": []
  }
 ],
 "metadata": {
  "kernelspec": {
   "display_name": "Python 3",
   "language": "python",
   "name": "python3"
  },
  "language_info": {
   "codemirror_mode": {
    "name": "ipython",
    "version": 3
   },
   "file_extension": ".py",
   "mimetype": "text/x-python",
   "name": "python",
   "nbconvert_exporter": "python",
   "pygments_lexer": "ipython3",
   "version": "3.5.2"
  }
 },
 "nbformat": 4,
 "nbformat_minor": 2
}
