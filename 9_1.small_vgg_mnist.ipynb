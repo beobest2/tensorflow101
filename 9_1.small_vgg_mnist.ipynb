{
 "cells": [
  {
   "cell_type": "code",
   "execution_count": null,
   "metadata": {
    "collapsed": true
   },
   "outputs": [],
   "source": [
    "#!nvidia-smi"
   ]
  },
  {
   "cell_type": "code",
   "execution_count": null,
   "metadata": {
    "collapsed": true
   },
   "outputs": [],
   "source": [
    "#%env CUDA_DEVICE_ORDER=PCI_BUS_ID\n",
    "#%env CUDA_VISIBLE_DEVICES=0"
   ]
  },
  {
   "cell_type": "code",
   "execution_count": 1,
   "metadata": {
    "collapsed": true
   },
   "outputs": [],
   "source": [
    "import os\n",
    "import numpy as np\n",
    "from scipy.misc import imread, imresize\n",
    "import tensorflow as tf\n",
    "from tensorflow.examples.tutorials.mnist import input_data\n",
    "import matplotlib.pyplot as plt\n",
    "import random"
   ]
  },
  {
   "cell_type": "code",
   "execution_count": 2,
   "metadata": {
    "collapsed": false
   },
   "outputs": [
    {
     "name": "stdout",
     "output_type": "stream",
     "text": [
      "Extracting ../data/train-images-idx3-ubyte.gz\n",
      "Extracting ../data/train-labels-idx1-ubyte.gz\n",
      "Extracting ../data/t10k-images-idx3-ubyte.gz\n",
      "Extracting ../data/t10k-labels-idx1-ubyte.gz\n"
     ]
    }
   ],
   "source": [
    "mnist = input_data.read_data_sets(\"../data/\", one_hot=True)\n",
    "# Check out https://www.tensorflow.org/get_started/mnist/beginners for\n",
    "# more information about the mnist dataset"
   ]
  },
  {
   "cell_type": "code",
   "execution_count": 3,
   "metadata": {
    "collapsed": true
   },
   "outputs": [],
   "source": [
    "# hyper parameters\n",
    "learning_rate = 0.001\n",
    "training_epochs = 70\n",
    "batch_size = 64\n",
    "n_class = 10\n",
    "seed = 777\n",
    "tf.set_random_seed(seed)\n",
    "cur_dir = os.getcwd()"
   ]
  },
  {
   "cell_type": "code",
   "execution_count": 4,
   "metadata": {
    "collapsed": true
   },
   "outputs": [],
   "source": [
    "def preproc(x):\n",
    "    # x = x*2 - 1.0\n",
    "    # per-example mean subtraction (http://ufldl.stanford.edu/wiki/index.php/Data_Preprocessing)\n",
    "    mean = tf.reduce_mean(x, axis=1, keep_dims=True)\n",
    "    return x - mean"
   ]
  },
  {
   "cell_type": "code",
   "execution_count": 5,
   "metadata": {
    "collapsed": true
   },
   "outputs": [],
   "source": [
    "def conv_bn_activ_dropout(name, x, n_filters, kernel_size, strides, dropout_rate, training, seed, \n",
    "                          padding='SAME', activ_fn=tf.nn.relu):\n",
    "    with tf.variable_scope(name):\n",
    "        net = tf.layers.conv2d(x, n_filters, kernel_size, strides=strides, padding=padding, use_bias=False,\n",
    "                              kernel_initializer=tf.contrib.layers.xavier_initializer(seed=seed))\n",
    "        net = tf.layers.batch_normalization(net, training=training)\n",
    "        net = activ_fn(net)\n",
    "        if dropout_rate > 0.0:            \n",
    "            net = tf.layers.dropout(net, rate=dropout_rate, training=training, seed=seed)\n",
    "    return net"
   ]
  },
  {
   "cell_type": "code",
   "execution_count": 6,
   "metadata": {
    "collapsed": true
   },
   "outputs": [],
   "source": [
    "def build_vgg(X_img, dropout_rate, seed):\n",
    "    net = X_img\n",
    "    n_filters = 64\n",
    "    for i in range(3):\n",
    "        net = conv_bn_activ_dropout(name=\"3x3conv{}-{}\".format(i+1, 1), x=net, n_filters=n_filters, \n",
    "                                   kernel_size=[3,3], strides=1, dropout_rate=dropout_rate, \n",
    "                                   training=is_train, seed=seed)\n",
    "        net = conv_bn_activ_dropout(name=\"3x3conv{}-{}\".format(i+1, 2), x=net, n_filters=n_filters, \n",
    "                                   kernel_size=[3,3], strides=1, dropout_rate=dropout_rate, \n",
    "                                   training=is_train, seed=seed)\n",
    "        if i == 2:\n",
    "            net = conv_bn_activ_dropout(name=\"1x1conv\", x=net, n_filters=n_filters,\n",
    "                                       kernel_size=[1,1], strides=1, dropout_rate=dropout_rate,\n",
    "                                       training=is_train, seed=seed)\n",
    "        n_filters *= 2\n",
    "        net = conv_bn_activ_dropout(name=\"5x5stridepool{}\".format(i+1), x=net, n_filters=n_filters,\n",
    "                                   kernel_size=[5,5], strides=2, dropout_rate=dropout_rate,\n",
    "                                   training=is_train, seed=seed)\n",
    "    \n",
    "    net = tf.contrib.layers.flatten(net)\n",
    "    logits = tf.layers.dense(net, 10, kernel_initializer=tf.contrib.layers.xavier_initializer(seed=seed),\n",
    "                            name=\"logits\")\n",
    "    \n",
    "    return logits"
   ]
  },
  {
   "cell_type": "code",
   "execution_count": 7,
   "metadata": {
    "collapsed": true
   },
   "outputs": [],
   "source": [
    "X = tf.placeholder(tf.float32, [None, 784], name=\"X\")\n",
    "Y = tf.placeholder(tf.float32, [None, n_class], name = \"Y\")\n",
    "is_train = tf.placeholder(tf.bool, name=\"is_train\")"
   ]
  },
  {
   "cell_type": "code",
   "execution_count": 8,
   "metadata": {
    "collapsed": true
   },
   "outputs": [],
   "source": [
    "X_pre = preproc(X)\n",
    "X_img = tf.reshape(X_pre, [-1, 28, 28, 1], name=\"X_img\")"
   ]
  },
  {
   "cell_type": "code",
   "execution_count": 9,
   "metadata": {
    "collapsed": true
   },
   "outputs": [],
   "source": [
    "logits = build_vgg(X_img, dropout_rate=0.3, seed=seed)"
   ]
  },
  {
   "cell_type": "code",
   "execution_count": 10,
   "metadata": {
    "collapsed": true
   },
   "outputs": [],
   "source": [
    "loss = tf.reduce_mean(tf.nn.softmax_cross_entropy_with_logits(logits=logits, labels=Y), name=\"loss\")\n",
    "global_step = tf.Variable(0, trainable=False)\n",
    "learningRate = tf.train.exponential_decay(learning_rate=learning_rate,\n",
    "                                          global_step= global_step,\n",
    "                                          decay_steps=5000,\n",
    "                                          decay_rate= 0.1,\n",
    "                                          staircase=True)\n",
    "update_ops = tf.get_collection(tf.GraphKeys.UPDATE_OPS)\n",
    "with tf.control_dependencies(update_ops):\n",
    "    optimizer = tf.train.AdamOptimizer(learning_rate=learningRate).minimize(loss, name=\"optimizer\") "
   ]
  },
  {
   "cell_type": "code",
   "execution_count": 11,
   "metadata": {
    "collapsed": true
   },
   "outputs": [],
   "source": [
    "pred = tf.argmax(logits, axis=1, name=\"prediction\")\n",
    "prob = tf.nn.softmax(logits, name=\"softmax\")\n",
    "accuracy = tf.reduce_mean(tf.cast(tf.equal(pred, tf.argmax(Y, axis=1)), tf.float32), name=\"accuracy\")"
   ]
  },
  {
   "cell_type": "code",
   "execution_count": 12,
   "metadata": {
    "collapsed": true
   },
   "outputs": [],
   "source": [
    "train_var = [X, Y, is_train, logits, pred, prob, accuracy]\n",
    "tf.add_to_collection('train_var', train_var[0])\n",
    "tf.add_to_collection('train_var', train_var[1])\n",
    "tf.add_to_collection('train_var', train_var[2])\n",
    "tf.add_to_collection('train_var', train_var[3])\n",
    "tf.add_to_collection('train_var', train_var[4])\n",
    "tf.add_to_collection('train_var', train_var[5])\n",
    "tf.add_to_collection('train_var', train_var[6])\n",
    "saver = tf.train.Saver()\n",
    "##saver.export_meta_graph(os.path.join(cur_dir, 'checkpoints', 'mnist_ckpt.meta'), collection_list=['train_var'])"
   ]
  },
  {
   "cell_type": "code",
   "execution_count": 13,
   "metadata": {
    "collapsed": true
   },
   "outputs": [],
   "source": [
    "# initialize\n",
    "sess = tf.Session(config=tf.ConfigProto(gpu_options=tf.GPUOptions(allow_growth =True)))\n",
    "sess.run(tf.global_variables_initializer())"
   ]
  },
  {
   "cell_type": "code",
   "execution_count": 14,
   "metadata": {
    "collapsed": false,
    "scrolled": false
   },
   "outputs": [
    {
     "name": "stdout",
     "output_type": "stream",
     "text": [
      "Learning started. It takes sometime.\n",
      "saving a graph and weights => accuracy : 0.9069511217948717\n",
      "Epoch: 0001 cost = 0.379516512 train accuracy =  0.90241 test accuracy =  0.90695\n",
      "saving a graph and weights => accuracy : 0.9660456730769239\n",
      "Epoch: 0002 cost = 0.082020850 train accuracy =  0.97644 test accuracy =  0.96605\n",
      "saving a graph and weights => accuracy : 0.990584935897435\n",
      "Epoch: 0003 cost = 0.060707774 train accuracy =  0.98243 test accuracy =  0.99058\n",
      "Epoch: 0004 cost = 0.058587541 train accuracy =  0.98312 test accuracy =  0.98478\n",
      "Epoch: 0005 cost = 0.048384012 train accuracy =  0.98570 test accuracy =  0.97877\n",
      "saving a graph and weights => accuracy : 0.9917868589743581\n",
      "Epoch: 0006 cost = 0.043466364 train accuracy =  0.98742 test accuracy =  0.99179\n",
      "Epoch: 0007 cost = 0.036616619 train accuracy =  0.98967 test accuracy =  0.98988\n",
      "saving a graph and weights => accuracy : 0.9929887820512809\n",
      "Epoch: 0008 cost = 0.032828367 train accuracy =  0.99077 test accuracy =  0.99299\n",
      "Epoch: 0009 cost = 0.032270128 train accuracy =  0.99040 test accuracy =  0.99269\n",
      "Epoch: 0010 cost = 0.026376656 train accuracy =  0.99211 test accuracy =  0.99229\n",
      "Epoch: 0011 cost = 0.026917047 train accuracy =  0.99222 test accuracy =  0.98988\n",
      "Epoch: 0012 cost = 0.024269798 train accuracy =  0.99303 test accuracy =  0.99139\n",
      "Epoch: 0013 cost = 0.021642791 train accuracy =  0.99352 test accuracy =  0.98097\n",
      "Epoch: 0014 cost = 0.023228758 train accuracy =  0.99312 test accuracy =  0.98147\n",
      "saving a graph and weights => accuracy : 0.9935897435897426\n",
      "Epoch: 0015 cost = 0.019446696 train accuracy =  0.99412 test accuracy =  0.99359\n",
      "saving a graph and weights => accuracy : 0.9940905448717937\n",
      "Epoch: 0016 cost = 0.019577741 train accuracy =  0.99374 test accuracy =  0.99409\n",
      "Epoch: 0017 cost = 0.017446709 train accuracy =  0.99421 test accuracy =  0.99259\n",
      "Epoch: 0018 cost = 0.017431154 train accuracy =  0.99472 test accuracy =  0.99239\n",
      "Epoch: 0019 cost = 0.016012861 train accuracy =  0.99488 test accuracy =  0.99199\n",
      "Epoch: 0020 cost = 0.015513472 train accuracy =  0.99537 test accuracy =  0.99129\n",
      "Epoch: 0021 cost = 0.015188510 train accuracy =  0.99506 test accuracy =  0.99309\n",
      "saving a graph and weights => accuracy : 0.994591346153845\n",
      "Epoch: 0022 cost = 0.012683033 train accuracy =  0.99630 test accuracy =  0.99459\n",
      "Epoch: 0023 cost = 0.011841111 train accuracy =  0.99650 test accuracy =  0.99139\n",
      "Epoch: 0024 cost = 0.014168122 train accuracy =  0.99556 test accuracy =  0.99379\n",
      "Epoch: 0025 cost = 0.012566141 train accuracy =  0.99607 test accuracy =  0.99339\n",
      "saving a graph and weights => accuracy : 0.9948918269230759\n",
      "Epoch: 0026 cost = 0.012730485 train accuracy =  0.99619 test accuracy =  0.99489\n",
      "Epoch: 0027 cost = 0.010701202 train accuracy =  0.99634 test accuracy =  0.99459\n",
      "saving a graph and weights => accuracy : 0.995793269230768\n",
      "Epoch: 0028 cost = 0.009016179 train accuracy =  0.99712 test accuracy =  0.99579\n",
      "Epoch: 0029 cost = 0.007963239 train accuracy =  0.99736 test accuracy =  0.99349\n",
      "Epoch: 0030 cost = 0.011174686 train accuracy =  0.99641 test accuracy =  0.99429\n",
      "Epoch: 0031 cost = 0.007817777 train accuracy =  0.99738 test accuracy =  0.99429\n",
      "Epoch: 0032 cost = 0.009006726 train accuracy =  0.99703 test accuracy =  0.99399\n",
      "Epoch: 0033 cost = 0.008024944 train accuracy =  0.99743 test accuracy =  0.99369\n",
      "Epoch: 0034 cost = 0.008209597 train accuracy =  0.99729 test accuracy =  0.99509\n",
      "Epoch: 0035 cost = 0.006466092 train accuracy =  0.99783 test accuracy =  0.99539\n",
      "Epoch: 0036 cost = 0.006780048 train accuracy =  0.99807 test accuracy =  0.99449\n",
      "Epoch: 0037 cost = 0.008453099 train accuracy =  0.99710 test accuracy =  0.99449\n",
      "Epoch: 0038 cost = 0.005445373 train accuracy =  0.99831 test accuracy =  0.99349\n",
      "Epoch: 0039 cost = 0.005654748 train accuracy =  0.99798 test accuracy =  0.99429\n",
      "Epoch: 0040 cost = 0.007096619 train accuracy =  0.99749 test accuracy =  0.99449\n",
      "Epoch: 0041 cost = 0.006644778 train accuracy =  0.99780 test accuracy =  0.99499\n",
      "Epoch: 0042 cost = 0.004866365 train accuracy =  0.99836 test accuracy =  0.99519\n",
      "Epoch: 0043 cost = 0.006863154 train accuracy =  0.99781 test accuracy =  0.99409\n",
      "Epoch: 0044 cost = 0.004791540 train accuracy =  0.99836 test accuracy =  0.99509\n",
      "Epoch: 0045 cost = 0.006745326 train accuracy =  0.99794 test accuracy =  0.99509\n",
      "Epoch: 0046 cost = 0.004755022 train accuracy =  0.99840 test accuracy =  0.99549\n",
      "Epoch: 0047 cost = 0.004679317 train accuracy =  0.99849 test accuracy =  0.99479\n",
      "Epoch: 0048 cost = 0.005539498 train accuracy =  0.99831 test accuracy =  0.99569\n",
      "Epoch: 0049 cost = 0.004090388 train accuracy =  0.99858 test accuracy =  0.99489\n",
      "Epoch: 0050 cost = 0.004338689 train accuracy =  0.99867 test accuracy =  0.99499\n",
      "Epoch: 0051 cost = 0.005125022 train accuracy =  0.99834 test accuracy =  0.99279\n",
      "Epoch: 0052 cost = 0.005891451 train accuracy =  0.99823 test accuracy =  0.99479\n",
      "Epoch: 0053 cost = 0.003107385 train accuracy =  0.99894 test accuracy =  0.99569\n",
      "Epoch: 0054 cost = 0.004506695 train accuracy =  0.99865 test accuracy =  0.99249\n",
      "Epoch: 0055 cost = 0.003501235 train accuracy =  0.99873 test accuracy =  0.99499\n",
      "Epoch: 0056 cost = 0.004619366 train accuracy =  0.99858 test accuracy =  0.99569\n",
      "Epoch: 0057 cost = 0.003018167 train accuracy =  0.99900 test accuracy =  0.99449\n",
      "Epoch: 0058 cost = 0.005474326 train accuracy =  0.99822 test accuracy =  0.99299\n",
      "Epoch: 0059 cost = 0.003619159 train accuracy =  0.99871 test accuracy =  0.99489\n",
      "Epoch: 0060 cost = 0.003369787 train accuracy =  0.99898 test accuracy =  0.99369\n",
      "Epoch: 0061 cost = 0.004277163 train accuracy =  0.99860 test accuracy =  0.99549\n",
      "Epoch: 0062 cost = 0.002430279 train accuracy =  0.99924 test accuracy =  0.99459\n",
      "Epoch: 0063 cost = 0.003477158 train accuracy =  0.99878 test accuracy =  0.99359\n",
      "Epoch: 0064 cost = 0.002362641 train accuracy =  0.99916 test accuracy =  0.99549\n",
      "Epoch: 0065 cost = 0.004880833 train accuracy =  0.99847 test accuracy =  0.99469\n",
      "Epoch: 0066 cost = 0.003020239 train accuracy =  0.99918 test accuracy =  0.99519\n",
      "Epoch: 0067 cost = 0.003777072 train accuracy =  0.99893 test accuracy =  0.99469\n",
      "Epoch: 0068 cost = 0.003449049 train accuracy =  0.99905 test accuracy =  0.99459\n",
      "saving a graph and weights => accuracy : 0.9960937499999988\n",
      "Epoch: 0069 cost = 0.003726464 train accuracy =  0.99891 test accuracy =  0.99609\n",
      "Epoch: 0070 cost = 0.002883576 train accuracy =  0.99907 test accuracy =  0.99549\n",
      "Learning Finished!\n"
     ]
    }
   ],
   "source": [
    "# train my model\n",
    "print('Learning started. It takes sometime.')\n",
    "max_test_acc = 0.\n",
    "for epoch in range(training_epochs):\n",
    "    avg_cost = 0.\n",
    "    avg_train_acc = 0.\n",
    "    avg_test_acc = 0.\n",
    "    \n",
    "    total_batch = int(mnist.train.num_examples / batch_size)\n",
    "    total_batch_test = int(mnist.test.num_examples / batch_size)\n",
    "\n",
    "    for i in range(total_batch):\n",
    "        batch_xs, batch_ys = mnist.train.next_batch(batch_size)\n",
    "        #batch_xs = batch_xs.reshape(-1, time_steps, element_size)\n",
    "        feed_dict = {X: batch_xs, Y: batch_ys, is_train:True}\n",
    "        acc, c, _ = sess.run([accuracy, loss, optimizer], feed_dict=feed_dict)\n",
    "        avg_cost += c / total_batch\n",
    "        avg_train_acc += acc / total_batch\n",
    "        \n",
    "    for i in range(total_batch_test):\n",
    "        batch_xs, batch_ys = mnist.test.next_batch(batch_size)        \n",
    "        #batch_xs = batch_xs.reshape(-1, time_steps, element_size)\n",
    "        feed_dict = {X: batch_xs, Y: batch_ys, is_train:False}\n",
    "        acc = sess.run(accuracy, feed_dict=feed_dict)\n",
    "        avg_test_acc += acc / total_batch_test\n",
    "    if avg_test_acc > max_test_acc:\n",
    "        max_test_acc = avg_test_acc\n",
    "        print('saving a graph and weights => accuracy : {}'.format(max_test_acc))\n",
    "        saver.save(sess, os.path.join(cur_dir, 'checkpoints', 'mnist_vggsmall128.ckpt'))\n",
    "\n",
    "    print('Epoch:', '%04d' % (epoch + 1), 'cost =', '{:.9f}'.format(avg_cost), \n",
    "          'train accuracy = ', '{:.5f}'.format(avg_train_acc), \n",
    "          'test accuracy = ', '{:.5f}'.format(avg_test_acc))\n",
    "\n",
    "\n",
    "print('Learning Finished!')"
   ]
  },
  {
   "cell_type": "code",
   "execution_count": 15,
   "metadata": {
    "collapsed": false
   },
   "outputs": [],
   "source": [
    "#saver.save(sess, os.path.join(cur_dir, 'checkpoints', 'mnist_save.ckpt'))"
   ]
  },
  {
   "cell_type": "code",
   "execution_count": 16,
   "metadata": {
    "collapsed": false
   },
   "outputs": [
    {
     "name": "stdout",
     "output_type": "stream",
     "text": [
      "\n",
      "Accuracy Evaluates\n",
      "-------------------------------\n",
      "Train Accuracy: 0.99989\n",
      "Test Accuracy: 0.99560\n"
     ]
    }
   ],
   "source": [
    "def evaluate(X_sample, y_sample, batch_size=100):\n",
    "    \"\"\"Run a minibatch accuracy op\"\"\"\n",
    "\n",
    "    N = X_sample.shape[0]\n",
    "    correct_sample = 0\n",
    "\n",
    "    for i in range(0, N, batch_size):\n",
    "        X_batch = X_sample[i: i + batch_size]\n",
    "        y_batch = y_sample[i: i + batch_size]\n",
    "        N_batch = X_batch.shape[0]\n",
    "\n",
    "        feed = {\n",
    "            X: X_batch,\n",
    "            Y: y_batch,\n",
    "            is_train: False\n",
    "        }\n",
    "\n",
    "        correct_sample += sess.run(accuracy, feed_dict=feed) * N_batch\n",
    "\n",
    "    return correct_sample / N\n",
    "\n",
    "print(\"\\nAccuracy Evaluates\")\n",
    "print(\"-------------------------------\")\n",
    "print('Train Accuracy:', '{:.5f}'.format(evaluate(mnist.train.images, mnist.train.labels)))\n",
    "print('Test Accuracy:', '{:.5f}'.format(evaluate(mnist.test.images, mnist.test.labels)))"
   ]
  },
  {
   "cell_type": "code",
   "execution_count": null,
   "metadata": {
    "collapsed": true
   },
   "outputs": [],
   "source": []
  }
 ],
 "metadata": {
  "kernelspec": {
   "display_name": "Python 3",
   "language": "python",
   "name": "python3"
  },
  "language_info": {
   "codemirror_mode": {
    "name": "ipython",
    "version": 3
   },
   "file_extension": ".py",
   "mimetype": "text/x-python",
   "name": "python",
   "nbconvert_exporter": "python",
   "pygments_lexer": "ipython3",
   "version": "3.5.2"
  }
 },
 "nbformat": 4,
 "nbformat_minor": 2
}
