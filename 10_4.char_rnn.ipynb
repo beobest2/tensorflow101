{
 "cells": [
  {
   "cell_type": "code",
   "execution_count": null,
   "metadata": {
    "collapsed": true
   },
   "outputs": [],
   "source": [
    "#!nvidia-smi"
   ]
  },
  {
   "cell_type": "code",
   "execution_count": null,
   "metadata": {
    "collapsed": true
   },
   "outputs": [],
   "source": [
    "#%env CUDA_DEVICE_ORDER=PCI_BUS_ID\n",
    "#%env CUDA_VISIBLE_DEVICES=0"
   ]
  },
  {
   "cell_type": "code",
   "execution_count": 1,
   "metadata": {
    "collapsed": true
   },
   "outputs": [],
   "source": [
    "import tensorflow as tf\n",
    "import numpy as np\n",
    "tf.set_random_seed(777)  # reproducibility"
   ]
  },
  {
   "cell_type": "code",
   "execution_count": 2,
   "metadata": {
    "collapsed": true
   },
   "outputs": [],
   "source": [
    "sample = \" if you want you\"\n",
    "idx2char = list(set(sample))  # index -> char\n",
    "char2idx = {c: i for i, c in enumerate(idx2char)}  # char -> idex"
   ]
  },
  {
   "cell_type": "code",
   "execution_count": 3,
   "metadata": {
    "collapsed": true
   },
   "outputs": [],
   "source": [
    "# hyper parameters\n",
    "dic_size = len(char2idx)  # RNN input size (one hot size)\n",
    "hidden_size = len(char2idx)  # RNN output size\n",
    "num_classes = len(char2idx)  # final output size (RNN or softmax, etc.)\n",
    "batch_size = 1  # one sample data, one batch\n",
    "sequence_length = len(sample) - 1  # number of lstm rollings (unit #)\n",
    "learning_rate = 0.1"
   ]
  },
  {
   "cell_type": "code",
   "execution_count": 4,
   "metadata": {
    "collapsed": true
   },
   "outputs": [],
   "source": [
    "sample_idx = [char2idx[c] for c in sample]  # char to index\n",
    "x_data = [sample_idx[:-1]]  # X data sample (0 ~ n-1) hello: hell\n",
    "y_data = [sample_idx[1:]]   # Y label sample (1 ~ n) hello: ello\n",
    "\n",
    "X = tf.placeholder(tf.int32, [None, sequence_length])  # X data\n",
    "Y = tf.placeholder(tf.int32, [None, sequence_length])  # Y label"
   ]
  },
  {
   "cell_type": "code",
   "execution_count": 5,
   "metadata": {
    "collapsed": true
   },
   "outputs": [],
   "source": [
    "x_one_hot = tf.one_hot(X, num_classes)  # one hot: 1 -> 0 1 0 0 0 0 0 0 0 0\n",
    "cell = tf.contrib.rnn.BasicLSTMCell(\n",
    "    num_units=hidden_size, state_is_tuple=True)\n",
    "initial_state = cell.zero_state(batch_size, tf.float32)\n",
    "outputs, _states = tf.nn.dynamic_rnn(\n",
    "    cell, x_one_hot, initial_state=initial_state, dtype=tf.float32)"
   ]
  },
  {
   "cell_type": "code",
   "execution_count": 6,
   "metadata": {
    "collapsed": true
   },
   "outputs": [],
   "source": [
    "# FC layer\n",
    "X_for_fc = tf.reshape(outputs, [-1, hidden_size])\n",
    "outputs = tf.contrib.layers.fully_connected(X_for_fc, num_classes, activation_fn=None)\n",
    "\n",
    "# reshape out for sequence_loss\n",
    "outputs = tf.reshape(outputs, [batch_size, sequence_length, num_classes])"
   ]
  },
  {
   "cell_type": "code",
   "execution_count": 7,
   "metadata": {
    "collapsed": true
   },
   "outputs": [],
   "source": [
    "weights = tf.ones([batch_size, sequence_length])\n",
    "sequence_loss = tf.contrib.seq2seq.sequence_loss(\n",
    "    logits=outputs, targets=Y, weights=weights)\n",
    "loss = tf.reduce_mean(sequence_loss)\n",
    "train = tf.train.AdamOptimizer(learning_rate=learning_rate).minimize(loss)\n",
    "\n",
    "prediction = tf.argmax(outputs, axis=2)"
   ]
  },
  {
   "cell_type": "code",
   "execution_count": 9,
   "metadata": {
    "collapsed": false
   },
   "outputs": [
    {
     "name": "stdout",
     "output_type": "stream",
     "text": [
      "0 loss: 2.31431 Prediction: yyyyyyyyyyyyyyy\n",
      "1 loss: 2.16254 Prediction: o yyyuuuuuuuuuu\n",
      "2 loss: 2.02512 Prediction: o   ou       ou\n",
      "3 loss: 1.86291 Prediction: o  you  a    ou\n",
      "4 loss: 1.64162 Prediction: o  you ua   you\n",
      "5 loss: 1.40211 Prediction: o  you uan  you\n",
      "6 loss: 1.14549 Prediction: o  you uant you\n",
      "7 loss: 0.913802 Prediction: o  you want you\n",
      "8 loss: 0.704348 Prediction: if you want you\n",
      "9 loss: 0.507103 Prediction: if you want you\n",
      "10 loss: 0.354242 Prediction: if you want you\n",
      "11 loss: 0.247866 Prediction: if you want you\n",
      "12 loss: 0.171104 Prediction: if you want you\n",
      "13 loss: 0.115619 Prediction: if you want you\n",
      "14 loss: 0.077668 Prediction: if you want you\n",
      "15 loss: 0.0531497 Prediction: if you want you\n",
      "16 loss: 0.0374748 Prediction: if you want you\n",
      "17 loss: 0.0271274 Prediction: if you want you\n",
      "18 loss: 0.020012 Prediction: if you want you\n",
      "19 loss: 0.0149779 Prediction: if you want you\n",
      "20 loss: 0.0113617 Prediction: if you want you\n",
      "21 loss: 0.00874199 Prediction: if you want you\n",
      "22 loss: 0.00683072 Prediction: if you want you\n",
      "23 loss: 0.00542509 Prediction: if you want you\n",
      "24 loss: 0.00438116 Prediction: if you want you\n",
      "25 loss: 0.0035968 Prediction: if you want you\n",
      "26 loss: 0.0030001 Prediction: if you want you\n",
      "27 loss: 0.00254015 Prediction: if you want you\n",
      "28 loss: 0.00218095 Prediction: if you want you\n",
      "29 loss: 0.00189695 Prediction: if you want you\n",
      "30 loss: 0.00166992 Prediction: if you want you\n",
      "31 loss: 0.0014864 Prediction: if you want you\n",
      "32 loss: 0.0013367 Prediction: if you want you\n",
      "33 loss: 0.00121344 Prediction: if you want you\n",
      "34 loss: 0.0011109 Prediction: if you want you\n",
      "35 loss: 0.00102496 Prediction: if you want you\n",
      "36 loss: 0.000952205 Prediction: if you want you\n",
      "37 loss: 0.000890024 Prediction: if you want you\n",
      "38 loss: 0.000836524 Prediction: if you want you\n",
      "39 loss: 0.00079008 Prediction: if you want you\n",
      "40 loss: 0.000749461 Prediction: if you want you\n",
      "41 loss: 0.000713701 Prediction: if you want you\n",
      "42 loss: 0.000682075 Prediction: if you want you\n",
      "43 loss: 0.000653848 Prediction: if you want you\n",
      "44 loss: 0.000628637 Prediction: if you want you\n",
      "45 loss: 0.000606021 Prediction: if you want you\n",
      "46 loss: 0.000585645 Prediction: if you want you\n",
      "47 loss: 0.000567158 Prediction: if you want you\n",
      "48 loss: 0.000550379 Prediction: if you want you\n",
      "49 loss: 0.000535115 Prediction: if you want you\n"
     ]
    }
   ],
   "source": [
    "with tf.Session(config=tf.ConfigProto(gpu_options=tf.GPUOptions(allow_growth =True))) as sess:\n",
    "    sess.run(tf.global_variables_initializer())\n",
    "    for i in range(50):\n",
    "        l, _ = sess.run([loss, train], feed_dict={X: x_data, Y: y_data})\n",
    "        result = sess.run(prediction, feed_dict={X: x_data})\n",
    "\n",
    "        # print char using dic\n",
    "        result_str = [idx2char[c] for c in np.squeeze(result)]\n",
    "\n",
    "        print(i, \"loss:\", l, \"Prediction:\", ''.join(result_str))"
   ]
  },
  {
   "cell_type": "code",
   "execution_count": null,
   "metadata": {
    "collapsed": true
   },
   "outputs": [],
   "source": []
  }
 ],
 "metadata": {
  "kernelspec": {
   "display_name": "Python 3",
   "language": "python",
   "name": "python3"
  },
  "language_info": {
   "codemirror_mode": {
    "name": "ipython",
    "version": 3
   },
   "file_extension": ".py",
   "mimetype": "text/x-python",
   "name": "python",
   "nbconvert_exporter": "python",
   "pygments_lexer": "ipython3",
   "version": "3.5.2"
  }
 },
 "nbformat": 4,
 "nbformat_minor": 2
}
