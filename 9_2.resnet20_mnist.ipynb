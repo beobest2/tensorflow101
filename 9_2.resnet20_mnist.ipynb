{
 "cells": [
  {
   "cell_type": "code",
   "execution_count": null,
   "metadata": {
    "collapsed": true
   },
   "outputs": [],
   "source": [
    "#!nvidia-smi"
   ]
  },
  {
   "cell_type": "code",
   "execution_count": null,
   "metadata": {
    "collapsed": true
   },
   "outputs": [],
   "source": [
    "#%env CUDA_DEVICE_ORDER=PCI_BUS_ID\n",
    "#%env CUDA_VISIBLE_DEVICES=0"
   ]
  },
  {
   "cell_type": "code",
   "execution_count": 1,
   "metadata": {
    "collapsed": true
   },
   "outputs": [],
   "source": [
    "import os\n",
    "import numpy as np\n",
    "from scipy.misc import imread, imresize\n",
    "import tensorflow as tf\n",
    "from tensorflow.examples.tutorials.mnist import input_data\n",
    "import matplotlib.pyplot as plt\n",
    "import random"
   ]
  },
  {
   "cell_type": "code",
   "execution_count": 2,
   "metadata": {
    "collapsed": false
   },
   "outputs": [
    {
     "name": "stdout",
     "output_type": "stream",
     "text": [
      "Extracting ../data/train-images-idx3-ubyte.gz\n",
      "Extracting ../data/train-labels-idx1-ubyte.gz\n",
      "Extracting ../data/t10k-images-idx3-ubyte.gz\n",
      "Extracting ../data/t10k-labels-idx1-ubyte.gz\n"
     ]
    }
   ],
   "source": [
    "mnist = input_data.read_data_sets(\"../data/\", one_hot=True)\n",
    "# Check out https://www.tensorflow.org/get_started/mnist/beginners for\n",
    "# more information about the mnist dataset"
   ]
  },
  {
   "cell_type": "code",
   "execution_count": 3,
   "metadata": {
    "collapsed": true
   },
   "outputs": [],
   "source": [
    "# hyper parameters\n",
    "learning_rate = 0.01\n",
    "training_epochs = 70\n",
    "batch_size = 50\n",
    "n_class = 10\n",
    "seed = 777\n",
    "num_epochs_per_decay = 10\n",
    "tf.set_random_seed(seed)\n",
    "cur_dir = os.getcwd()"
   ]
  },
  {
   "cell_type": "code",
   "execution_count": 4,
   "metadata": {
    "collapsed": true
   },
   "outputs": [],
   "source": [
    "def preproc(x):\n",
    "    # x = x*2 - 1.0\n",
    "    # per-example mean subtraction (http://ufldl.stanford.edu/wiki/index.php/Data_Preprocessing)\n",
    "    mean = tf.reduce_mean(x, axis=1, keep_dims=True)\n",
    "    return x - mean"
   ]
  },
  {
   "cell_type": "code",
   "execution_count": 5,
   "metadata": {
    "collapsed": true
   },
   "outputs": [],
   "source": [
    "def conv_bn_activ(name, x, n_filters, kernel_size, strides, training, seed, padding='SAME'):\n",
    "    with tf.variable_scope(name):\n",
    "        net = tf.layers.conv2d(x, n_filters, kernel_size, strides=strides, padding=padding, use_bias=False,\n",
    "                              kernel_initializer=tf.contrib.layers.variance_scaling_initializer(seed=seed))\n",
    "        net = tf.layers.batch_normalization(net, training=training)\n",
    "        net = tf.nn.relu(net)\n",
    "    return net"
   ]
  },
  {
   "cell_type": "code",
   "execution_count": 6,
   "metadata": {
    "collapsed": false
   },
   "outputs": [],
   "source": [
    "def residual_block(name, x, n_filters, training, seed, downsample=False):\n",
    "    if downsample:\n",
    "        strides = 2\n",
    "    else:\n",
    "        strides = 1\n",
    "    with tf.variable_scope(name):\n",
    "        with tf.variable_scope(\"inner_conv1\"):\n",
    "            net1 = tf.layers.conv2d(x, n_filters, [3, 3], strides=strides, padding='SAME', use_bias=False,\n",
    "                                   kernel_initializer=tf.contrib.layers.variance_scaling_initializer(seed=seed))\n",
    "            net1 = tf.layers.batch_normalization(net1, training=training)\n",
    "            net1 = tf.nn.relu(net1)\n",
    "        with tf.variable_scope(\"inner_conv2\"):\n",
    "            net2 = tf.layers.conv2d(net1, n_filters, [3, 3], strides=1, padding='SAME', use_bias=False,\n",
    "                                   kernel_initializer=tf.contrib.layers.variance_scaling_initializer(seed=seed))\n",
    "            net2 = tf.layers.batch_normalization(net2, training=training)\n",
    "        if downsample:\n",
    "            x = tf.layers.conv2d(x, n_filters, [1, 1], strides=2, padding='SAME',\n",
    "                                kernel_initializer=tf.contrib.layers.variance_scaling_initializer(seed=seed))\n",
    "        return tf.nn.relu(net2 + x)"
   ]
  },
  {
   "cell_type": "code",
   "execution_count": 7,
   "metadata": {
    "collapsed": true
   },
   "outputs": [],
   "source": [
    "def build_resnet(X_img, layer_n, training, seed):\n",
    "    net = X_img\n",
    "    with tf.variable_scope(\"conv0\"):\n",
    "        net = conv_bn_activ(name=\"pre_conv\", x=net, n_filters=16, kernel_size=[3,3], strides=1, \n",
    "                            training=is_train, seed=seed)\n",
    "    with tf.variable_scope(\"conv1\"):\n",
    "        for i in range(layer_n):\n",
    "            net = residual_block(name=\"resblk{}\".format(i), x=net, n_filters=16, training=training, \n",
    "                                 seed=seed)\n",
    "            print(net)\n",
    "    with tf.variable_scope(\"conv2\"):\n",
    "        for i in range(layer_n):\n",
    "            net = residual_block(name=\"resblk{}\".format(i), x=net, n_filters=32, training=training, \n",
    "                                 seed=seed, downsample=(i==0))\n",
    "            print(net)\n",
    "    with tf.variable_scope(\"conv3\"):\n",
    "        for i in range(layer_n):\n",
    "            net = residual_block(name=\"resblk{}\".format(i), x=net, n_filters=64, training=training, \n",
    "                                 seed=seed, downsample=(i==0))\n",
    "            print(net)\n",
    "    with tf.variable_scope(\"fc\"):\n",
    "        net = tf.layers.average_pooling2d(name=\"gap\", inputs=net, pool_size=[7, 7], \n",
    "                                          strides=7, padding='SAME')\n",
    "        print(net)\n",
    "        net = tf.reshape(net, [-1, 64])\n",
    "        print(net)\n",
    "        logits = tf.layers.dense(net, 10, name=\"logits\", \n",
    "                              kernel_initializer=tf.contrib.layers.variance_scaling_initializer(seed=seed))\n",
    "        print(logits)\n",
    "    return logits"
   ]
  },
  {
   "cell_type": "code",
   "execution_count": 8,
   "metadata": {
    "collapsed": true
   },
   "outputs": [],
   "source": [
    "X = tf.placeholder(tf.float32, [None, 784], name=\"X\")\n",
    "Y = tf.placeholder(tf.float32, [None, n_class], name = \"Y\")\n",
    "is_train = tf.placeholder(tf.bool, name=\"is_train\")"
   ]
  },
  {
   "cell_type": "code",
   "execution_count": 9,
   "metadata": {
    "collapsed": true
   },
   "outputs": [],
   "source": [
    "X_pre = preproc(X)\n",
    "X_img = tf.reshape(X_pre, [-1, 28, 28, 1], name=\"X_img\")"
   ]
  },
  {
   "cell_type": "code",
   "execution_count": 10,
   "metadata": {
    "collapsed": false,
    "scrolled": false
   },
   "outputs": [
    {
     "name": "stdout",
     "output_type": "stream",
     "text": [
      "Tensor(\"conv1/resblk0/Relu:0\", shape=(?, 28, 28, 16), dtype=float32)\n",
      "Tensor(\"conv1/resblk1/Relu:0\", shape=(?, 28, 28, 16), dtype=float32)\n",
      "Tensor(\"conv1/resblk2/Relu:0\", shape=(?, 28, 28, 16), dtype=float32)\n",
      "Tensor(\"conv2/resblk0/Relu:0\", shape=(?, 14, 14, 32), dtype=float32)\n",
      "Tensor(\"conv2/resblk1/Relu:0\", shape=(?, 14, 14, 32), dtype=float32)\n",
      "Tensor(\"conv2/resblk2/Relu:0\", shape=(?, 14, 14, 32), dtype=float32)\n",
      "Tensor(\"conv3/resblk0/Relu:0\", shape=(?, 7, 7, 64), dtype=float32)\n",
      "Tensor(\"conv3/resblk1/Relu:0\", shape=(?, 7, 7, 64), dtype=float32)\n",
      "Tensor(\"conv3/resblk2/Relu:0\", shape=(?, 7, 7, 64), dtype=float32)\n",
      "Tensor(\"fc/gap/AvgPool:0\", shape=(?, 1, 1, 64), dtype=float32)\n",
      "Tensor(\"fc/Reshape:0\", shape=(?, 64), dtype=float32)\n",
      "Tensor(\"fc/logits/BiasAdd:0\", shape=(?, 10), dtype=float32)\n"
     ]
    }
   ],
   "source": [
    "logits = build_resnet(X_img, layer_n=3, training=is_train, seed=seed)"
   ]
  },
  {
   "cell_type": "code",
   "execution_count": 11,
   "metadata": {
    "collapsed": true
   },
   "outputs": [],
   "source": [
    "loss = tf.reduce_mean(tf.nn.softmax_cross_entropy_with_logits(logits=logits, labels=Y), name=\"loss\")\n",
    "n_batches_per_epoch = int(mnist.train.num_examples / batch_size)\n",
    "decay_steps = int(n_batches_per_epoch * num_epochs_per_decay)\n",
    "global_step = tf.Variable(0, trainable=False)\n",
    "learningRate = tf.train.exponential_decay(learning_rate=learning_rate,\n",
    "                                          global_step= global_step,\n",
    "                                          decay_steps=decay_steps,\n",
    "                                          decay_rate= 0.15,\n",
    "                                          staircase=True)\n",
    "update_ops = tf.get_collection(tf.GraphKeys.UPDATE_OPS)\n",
    "with tf.control_dependencies(update_ops):\n",
    "    optimizer = tf.train.AdamOptimizer(learning_rate=learningRate).minimize(loss, name=\"optimizer\") "
   ]
  },
  {
   "cell_type": "code",
   "execution_count": 12,
   "metadata": {
    "collapsed": true
   },
   "outputs": [],
   "source": [
    "pred = tf.argmax(logits, axis=1, name=\"prediction\")\n",
    "prob = tf.nn.softmax(logits, name=\"softmax\")\n",
    "accuracy = tf.reduce_mean(tf.cast(tf.equal(pred, tf.argmax(Y, axis=1)), tf.float32), name=\"accuracy\")"
   ]
  },
  {
   "cell_type": "code",
   "execution_count": 13,
   "metadata": {
    "collapsed": true
   },
   "outputs": [],
   "source": [
    "train_var = [X, Y, is_train, logits, pred, prob, accuracy]\n",
    "tf.add_to_collection('train_var', train_var[0])\n",
    "tf.add_to_collection('train_var', train_var[1])\n",
    "tf.add_to_collection('train_var', train_var[2])\n",
    "tf.add_to_collection('train_var', train_var[3])\n",
    "tf.add_to_collection('train_var', train_var[4])\n",
    "tf.add_to_collection('train_var', train_var[5])\n",
    "tf.add_to_collection('train_var', train_var[6])\n",
    "saver = tf.train.Saver()\n",
    "##saver.export_meta_graph(os.path.join(cur_dir, 'checkpoints', 'mnist_ckpt.meta'), collection_list=['train_var'])"
   ]
  },
  {
   "cell_type": "code",
   "execution_count": 14,
   "metadata": {
    "collapsed": true
   },
   "outputs": [],
   "source": [
    "# initialize\n",
    "sess = tf.Session(config=tf.ConfigProto(gpu_options=tf.GPUOptions(allow_growth =True)))\n",
    "sess.run(tf.global_variables_initializer())"
   ]
  },
  {
   "cell_type": "code",
   "execution_count": 15,
   "metadata": {
    "collapsed": false,
    "scrolled": false
   },
   "outputs": [
    {
     "name": "stdout",
     "output_type": "stream",
     "text": [
      "Learning started. It takes sometime.\n",
      "saving a graph and weights => accuracy : 0.8289999878406524\n",
      "Epoch: 0001 cost = 0.157124146 train accuracy =  0.95345 test accuracy =  0.82900\n",
      "saving a graph and weights => accuracy : 0.9830999991297724\n",
      "Epoch: 0002 cost = 0.060324108 train accuracy =  0.98098 test accuracy =  0.98310\n",
      "Epoch: 0003 cost = 0.048583320 train accuracy =  0.98475 test accuracy =  0.96960\n",
      "Epoch: 0004 cost = 0.042501714 train accuracy =  0.98655 test accuracy =  0.97730\n",
      "Epoch: 0005 cost = 0.033939349 train accuracy =  0.98953 test accuracy =  0.98250\n",
      "Epoch: 0006 cost = 0.032842971 train accuracy =  0.98964 test accuracy =  0.97950\n",
      "Epoch: 0007 cost = 0.028124317 train accuracy =  0.99111 test accuracy =  0.98160\n",
      "saving a graph and weights => accuracy : 0.9890999990701679\n",
      "Epoch: 0008 cost = 0.025669689 train accuracy =  0.99180 test accuracy =  0.98910\n",
      "saving a graph and weights => accuracy : 0.9893000009655954\n",
      "Epoch: 0009 cost = 0.022427691 train accuracy =  0.99298 test accuracy =  0.98930\n",
      "saving a graph and weights => accuracy : 0.991899999380112\n",
      "Epoch: 0010 cost = 0.022795722 train accuracy =  0.99313 test accuracy =  0.99190\n",
      "Epoch: 0011 cost = 0.017225719 train accuracy =  0.99478 test accuracy =  0.98140\n",
      "Epoch: 0012 cost = 0.016803105 train accuracy =  0.99475 test accuracy =  0.99150\n",
      "Epoch: 0013 cost = 0.016191972 train accuracy =  0.99518 test accuracy =  0.99020\n",
      "Epoch: 0014 cost = 0.015428866 train accuracy =  0.99525 test accuracy =  0.98730\n",
      "Epoch: 0015 cost = 0.012105785 train accuracy =  0.99658 test accuracy =  0.99100\n",
      "saving a graph and weights => accuracy : 0.9930000007152557\n",
      "Epoch: 0016 cost = 0.014285805 train accuracy =  0.99536 test accuracy =  0.99300\n",
      "Epoch: 0017 cost = 0.013024567 train accuracy =  0.99595 test accuracy =  0.99070\n",
      "Epoch: 0018 cost = 0.009606479 train accuracy =  0.99707 test accuracy =  0.98720\n",
      "Epoch: 0019 cost = 0.010401041 train accuracy =  0.99662 test accuracy =  0.99150\n",
      "Epoch: 0020 cost = 0.010566094 train accuracy =  0.99689 test accuracy =  0.99090\n",
      "Epoch: 0021 cost = 0.009700619 train accuracy =  0.99671 test accuracy =  0.99140\n",
      "Epoch: 0022 cost = 0.009883497 train accuracy =  0.99700 test accuracy =  0.98750\n",
      "saving a graph and weights => accuracy : 0.993300000429154\n",
      "Epoch: 0023 cost = 0.008195839 train accuracy =  0.99731 test accuracy =  0.99330\n",
      "Epoch: 0024 cost = 0.007615356 train accuracy =  0.99735 test accuracy =  0.97540\n",
      "Epoch: 0025 cost = 0.008977768 train accuracy =  0.99731 test accuracy =  0.99010\n",
      "Epoch: 0026 cost = 0.005884446 train accuracy =  0.99795 test accuracy =  0.99070\n",
      "Epoch: 0027 cost = 0.010447539 train accuracy =  0.99662 test accuracy =  0.99210\n",
      "Epoch: 0028 cost = 0.005648629 train accuracy =  0.99824 test accuracy =  0.98960\n",
      "saving a graph and weights => accuracy : 0.9941999995708469\n",
      "Epoch: 0029 cost = 0.005371951 train accuracy =  0.99824 test accuracy =  0.99420\n",
      "Epoch: 0030 cost = 0.008095185 train accuracy =  0.99740 test accuracy =  0.99130\n",
      "Epoch: 0031 cost = 0.004193172 train accuracy =  0.99860 test accuracy =  0.99400\n",
      "Epoch: 0032 cost = 0.009093380 train accuracy =  0.99709 test accuracy =  0.99240\n",
      "Epoch: 0033 cost = 0.006030107 train accuracy =  0.99809 test accuracy =  0.99010\n",
      "Epoch: 0034 cost = 0.003579258 train accuracy =  0.99880 test accuracy =  0.99340\n",
      "Epoch: 0035 cost = 0.006553148 train accuracy =  0.99798 test accuracy =  0.99300\n",
      "Epoch: 0036 cost = 0.006953443 train accuracy =  0.99804 test accuracy =  0.99410\n",
      "saving a graph and weights => accuracy : 0.9945000004768376\n",
      "Epoch: 0037 cost = 0.006162841 train accuracy =  0.99822 test accuracy =  0.99450\n",
      "Epoch: 0038 cost = 0.005962329 train accuracy =  0.99811 test accuracy =  0.99050\n",
      "Epoch: 0039 cost = 0.005101128 train accuracy =  0.99820 test accuracy =  0.99150\n",
      "Epoch: 0040 cost = 0.004542219 train accuracy =  0.99856 test accuracy =  0.99220\n",
      "Epoch: 0041 cost = 0.004967538 train accuracy =  0.99827 test accuracy =  0.99360\n",
      "Epoch: 0042 cost = 0.004218767 train accuracy =  0.99865 test accuracy =  0.99220\n",
      "Epoch: 0043 cost = 0.005794863 train accuracy =  0.99845 test accuracy =  0.99350\n",
      "Epoch: 0044 cost = 0.005197269 train accuracy =  0.99851 test accuracy =  0.98820\n",
      "Epoch: 0045 cost = 0.006040910 train accuracy =  0.99815 test accuracy =  0.99280\n",
      "Epoch: 0046 cost = 0.004569365 train accuracy =  0.99860 test accuracy =  0.99290\n",
      "Epoch: 0047 cost = 0.003281686 train accuracy =  0.99907 test accuracy =  0.99330\n",
      "Epoch: 0048 cost = 0.005575572 train accuracy =  0.99844 test accuracy =  0.99380\n",
      "Epoch: 0049 cost = 0.005312598 train accuracy =  0.99818 test accuracy =  0.98930\n",
      "Epoch: 0050 cost = 0.004054759 train accuracy =  0.99875 test accuracy =  0.99280\n",
      "Epoch: 0051 cost = 0.005546753 train accuracy =  0.99829 test accuracy =  0.99260\n",
      "Epoch: 0052 cost = 0.002943990 train accuracy =  0.99918 test accuracy =  0.99430\n",
      "Epoch: 0053 cost = 0.003865200 train accuracy =  0.99902 test accuracy =  0.99350\n",
      "Epoch: 0054 cost = 0.004862853 train accuracy =  0.99855 test accuracy =  0.99310\n",
      "Epoch: 0055 cost = 0.004559394 train accuracy =  0.99876 test accuracy =  0.99070\n",
      "Epoch: 0056 cost = 0.004788314 train accuracy =  0.99856 test accuracy =  0.99020\n",
      "Epoch: 0057 cost = 0.004012956 train accuracy =  0.99884 test accuracy =  0.99410\n",
      "saving a graph and weights => accuracy : 0.9946999981999404\n",
      "Epoch: 0058 cost = 0.003416070 train accuracy =  0.99893 test accuracy =  0.99470\n",
      "Epoch: 0059 cost = 0.003191527 train accuracy =  0.99909 test accuracy =  0.99090\n",
      "Epoch: 0060 cost = 0.005165056 train accuracy =  0.99860 test accuracy =  0.98950\n",
      "Epoch: 0061 cost = 0.004821455 train accuracy =  0.99853 test accuracy =  0.99310\n",
      "Epoch: 0062 cost = 0.002859574 train accuracy =  0.99904 test accuracy =  0.99250\n",
      "Epoch: 0063 cost = 0.005214963 train accuracy =  0.99847 test accuracy =  0.99200\n",
      "saving a graph and weights => accuracy : 0.9953000003099444\n",
      "Epoch: 0064 cost = 0.002208621 train accuracy =  0.99915 test accuracy =  0.99530\n",
      "Epoch: 0065 cost = 0.002768914 train accuracy =  0.99918 test accuracy =  0.99020\n",
      "Epoch: 0066 cost = 0.006741864 train accuracy =  0.99800 test accuracy =  0.99400\n",
      "Epoch: 0067 cost = 0.001658745 train accuracy =  0.99942 test accuracy =  0.99340\n",
      "Epoch: 0068 cost = 0.004114313 train accuracy =  0.99876 test accuracy =  0.99200\n",
      "Epoch: 0069 cost = 0.004716909 train accuracy =  0.99869 test accuracy =  0.99480\n",
      "Epoch: 0070 cost = 0.000880041 train accuracy =  0.99969 test accuracy =  0.99420\n",
      "Learning Finished!\n"
     ]
    }
   ],
   "source": [
    "# train my model\n",
    "print('Learning started. It takes sometime.')\n",
    "max_test_acc = 0.\n",
    "for epoch in range(training_epochs):\n",
    "    avg_cost = 0.\n",
    "    avg_train_acc = 0.\n",
    "    avg_test_acc = 0.\n",
    "    \n",
    "    total_batch = int(mnist.train.num_examples / batch_size)\n",
    "    total_batch_test = int(mnist.test.num_examples / batch_size)\n",
    "\n",
    "    for i in range(total_batch):\n",
    "        batch_xs, batch_ys = mnist.train.next_batch(batch_size)\n",
    "        #batch_xs = batch_xs.reshape(-1, time_steps, element_size)\n",
    "        feed_dict = {X: batch_xs, Y: batch_ys, is_train:True}\n",
    "        acc, c, _ = sess.run([accuracy, loss, optimizer], feed_dict=feed_dict)\n",
    "        avg_cost += c / total_batch\n",
    "        avg_train_acc += acc / total_batch\n",
    "        \n",
    "    for i in range(total_batch_test):\n",
    "        batch_xs, batch_ys = mnist.test.next_batch(batch_size)        \n",
    "        #batch_xs = batch_xs.reshape(-1, time_steps, element_size)\n",
    "        feed_dict = {X: batch_xs, Y: batch_ys, is_train:False}\n",
    "        acc = sess.run(accuracy, feed_dict=feed_dict)\n",
    "        avg_test_acc += acc / total_batch_test\n",
    "    if avg_test_acc > max_test_acc:\n",
    "        max_test_acc = avg_test_acc\n",
    "        print('saving a graph and weights => accuracy : {}'.format(max_test_acc))\n",
    "        saver.save(sess, os.path.join(cur_dir, 'checkpoints', 'mnist_resnet20_50.ckpt'))\n",
    "\n",
    "    print('Epoch:', '%04d' % (epoch + 1), 'cost =', '{:.9f}'.format(avg_cost), \n",
    "          'train accuracy = ', '{:.5f}'.format(avg_train_acc), \n",
    "          'test accuracy = ', '{:.5f}'.format(avg_test_acc))\n",
    "\n",
    "\n",
    "print('Learning Finished!')"
   ]
  },
  {
   "cell_type": "code",
   "execution_count": 16,
   "metadata": {
    "collapsed": false
   },
   "outputs": [],
   "source": [
    "#saver.save(sess, os.path.join(cur_dir, 'checkpoints', 'mnist_save.ckpt'))"
   ]
  },
  {
   "cell_type": "code",
   "execution_count": 17,
   "metadata": {
    "collapsed": false
   },
   "outputs": [
    {
     "name": "stdout",
     "output_type": "stream",
     "text": [
      "\n",
      "Accuracy Evaluates\n",
      "-------------------------------\n",
      "Train Accuracy: 0.99989\n",
      "Test Accuracy: 0.99420\n"
     ]
    }
   ],
   "source": [
    "def evaluate(X_sample, y_sample, batch_size=100):\n",
    "    \"\"\"Run a minibatch accuracy op\"\"\"\n",
    "\n",
    "    N = X_sample.shape[0]\n",
    "    correct_sample = 0\n",
    "\n",
    "    for i in range(0, N, batch_size):\n",
    "        X_batch = X_sample[i: i + batch_size]\n",
    "        y_batch = y_sample[i: i + batch_size]\n",
    "        N_batch = X_batch.shape[0]\n",
    "\n",
    "        feed = {\n",
    "            X: X_batch,\n",
    "            Y: y_batch,\n",
    "            is_train: False\n",
    "        }\n",
    "\n",
    "        correct_sample += sess.run(accuracy, feed_dict=feed) * N_batch\n",
    "\n",
    "    return correct_sample / N\n",
    "\n",
    "print(\"\\nAccuracy Evaluates\")\n",
    "print(\"-------------------------------\")\n",
    "print('Train Accuracy:', '{:.5f}'.format(evaluate(mnist.train.images, mnist.train.labels)))\n",
    "print('Test Accuracy:', '{:.5f}'.format(evaluate(mnist.test.images, mnist.test.labels)))"
   ]
  },
  {
   "cell_type": "code",
   "execution_count": null,
   "metadata": {
    "collapsed": true
   },
   "outputs": [],
   "source": []
  }
 ],
 "metadata": {
  "kernelspec": {
   "display_name": "Python 3",
   "language": "python",
   "name": "python3"
  },
  "language_info": {
   "codemirror_mode": {
    "name": "ipython",
    "version": 3
   },
   "file_extension": ".py",
   "mimetype": "text/x-python",
   "name": "python",
   "nbconvert_exporter": "python",
   "pygments_lexer": "ipython3",
   "version": "3.5.2"
  }
 },
 "nbformat": 4,
 "nbformat_minor": 2
}
